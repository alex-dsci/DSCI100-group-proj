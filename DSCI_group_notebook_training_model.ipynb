{
 "cells": [
  {
   "cell_type": "markdown",
   "metadata": {},
   "source": [
    "**DSCI 100 GROUP REPORT:  \n",
    "A CLASSIFICATION MODEL TO DETECT PHISHING WEBSITES**"
   ]
  },
  {
   "cell_type": "markdown",
   "metadata": {},
   "source": [
    "**INTRODUCTION:**  \n",
    "\n",
    "The term phishing is defined as the fraudulent attempt to obtain sensitive information such as usernames, passwords and credit card details by disguising oneself as a trustworthy entity in an electronic communication. The purpose of a phishing website is to steal personal information or other confidential information by tricking the victim into believing that the website is legitimate.\n",
    "\n",
    "With this project we calculate the accuracy of a statistical classifier to predict if a website was a legitimate service, a phishing scam, or somewhere in between based on the several features. We can also find out what features are more common and specific to the phishing websites than legitimate ones, or if there are other features that are falsely associated with phishing websites.\n",
    "\n",
    "The large data set that we are using was obtained from a machine learning database: https://archive.ics.uci.edu/ml/machine-learning-databases/00327/ and it consists of sound and effective features that characterize phishing websites. These features are usually evaluated while making a model that distinguishes between legitimate and phishing websites. We will be using these features to construct our model and we also aim to find out which of these features are more common than other features among phishing websites. \n"
   ]
  },
  {
   "cell_type": "markdown",
   "metadata": {},
   "source": [
    "**METHODS:**  \n",
    "\n",
    "The dataset was loaded from \"http://archive.ics.uci.edu/ml/machine-learning-databases/00327/Training%20Dataset.arff\", converted into a caret-friendly form (result as factor), and cut down to a manageable size (3700 observations).\n",
    "\n",
    "Afterwards, basic summary statistics about the dataset (frequency/relative abundance of predictor type variables and result type variables) were generated to make sure the data was balanced and complete (no NAs). Two tables and a bar chart were used to visualize the data distribution.   \n",
    "\n",
    "Lastly, a knn classification analysis was performed. Five fold cross validation was performed to choose the k which maximized the accuracy of the model across the training data, and that k was used to generate the final classifier. The accuracy for different k's was generated in a line plot to visualize this process."
   ]
  },
  {
   "cell_type": "markdown",
   "metadata": {},
   "source": [
    "**Here we load the dataset from the internet, and briefly describe the variables involved.**"
   ]
  },
  {
   "cell_type": "code",
   "execution_count": 1,
   "metadata": {},
   "outputs": [
    {
     "name": "stderr",
     "output_type": "stream",
     "text": [
      "── \u001b[1mAttaching packages\u001b[22m ─────────────────────────────────────── tidyverse 1.2.1 ──\n",
      "\u001b[32m✔\u001b[39m \u001b[34mggplot2\u001b[39m 3.2.0     \u001b[32m✔\u001b[39m \u001b[34mpurrr  \u001b[39m 0.3.2\n",
      "\u001b[32m✔\u001b[39m \u001b[34mtibble \u001b[39m 2.1.3     \u001b[32m✔\u001b[39m \u001b[34mdplyr  \u001b[39m 0.8.3\n",
      "\u001b[32m✔\u001b[39m \u001b[34mtidyr  \u001b[39m 0.8.3     \u001b[32m✔\u001b[39m \u001b[34mstringr\u001b[39m 1.4.0\n",
      "\u001b[32m✔\u001b[39m \u001b[34mreadr  \u001b[39m 1.3.1     \u001b[32m✔\u001b[39m \u001b[34mforcats\u001b[39m 0.4.0\n",
      "── \u001b[1mConflicts\u001b[22m ────────────────────────────────────────── tidyverse_conflicts() ──\n",
      "\u001b[31m✖\u001b[39m \u001b[34mdplyr\u001b[39m::\u001b[32mfilter()\u001b[39m masks \u001b[34mstats\u001b[39m::filter()\n",
      "\u001b[31m✖\u001b[39m \u001b[34mdplyr\u001b[39m::\u001b[32mlag()\u001b[39m    masks \u001b[34mstats\u001b[39m::lag()\n",
      "Loading required package: lattice\n",
      "\n",
      "Attaching package: ‘caret’\n",
      "\n",
      "The following object is masked from ‘package:purrr’:\n",
      "\n",
      "    lift\n",
      "\n",
      "Registered S3 method overwritten by 'GGally':\n",
      "  method from   \n",
      "  +.gg   ggplot2\n",
      "\n",
      "Attaching package: ‘GGally’\n",
      "\n",
      "The following object is masked from ‘package:dplyr’:\n",
      "\n",
      "    nasa\n",
      "\n"
     ]
    }
   ],
   "source": [
    "# Load some libraries\n",
    "library(tidyverse)\n",
    "library(repr)\n",
    "library(caret)\n",
    "library(GGally)"
   ]
  },
  {
   "cell_type": "code",
   "execution_count": 2,
   "metadata": {},
   "outputs": [
    {
     "name": "stderr",
     "output_type": "stream",
     "text": [
      "Parsed with column specification:\n",
      "cols(\n",
      "  .default = col_double()\n",
      ")\n",
      "See spec(...) for full column specifications.\n"
     ]
    }
   ],
   "source": [
    "# Brute force column names from data\n",
    "phishing_columns <- c(\"having_IP_address\",\"URL_Length\",\"Shortening_Service\",\"having_At_Symbol\",\n",
    "                     \"double_slash_redirecting\",\"Prefix_Suffix\",\"having_Sub_Domain\",\"SSLfinal_State\",\n",
    "                     \"Domain_registration_length\",\"Favicon\",\"port\",\"HTTPS_token\",\"Request_URL\",\n",
    "                     \"URL_of_Anchor\",\"Links_in_tags\",\"SFH\",\"Submitting_to_email\",\"Abnormal_URL\",\n",
    "                     \"Redirect\",\"on_mouseover\",\"RightClick\",\"popUpWindow\",\"Iframe\",\"age_of_domain\",\n",
    "                     \"DNSRecord\",\"web_traffic\",\"Page_Rank\",\"Google_Index\",\"Links_pointing_to_page\",\n",
    "                     \"Statistical_report\",\"Result\")\n",
    "\n",
    "# Load data from http because https is giving a certificate expiry error\n",
    "Table_1_Raw_Phishing_Data <- \"http://archive.ics.uci.edu/ml/machine-learning-databases/00327/Training%20Dataset.arff\" %>%\n",
    "            read_csv(skip = 36, col_names = phishing_columns)"
   ]
  },
  {
   "cell_type": "code",
   "execution_count": 3,
   "metadata": {},
   "outputs": [
    {
     "data": {
      "text/html": [
       "<table>\n",
       "<caption>A tibble: 6 × 31</caption>\n",
       "<thead>\n",
       "\t<tr><th scope=col>having_IP_address</th><th scope=col>URL_Length</th><th scope=col>Shortening_Service</th><th scope=col>having_At_Symbol</th><th scope=col>double_slash_redirecting</th><th scope=col>Prefix_Suffix</th><th scope=col>having_Sub_Domain</th><th scope=col>SSLfinal_State</th><th scope=col>Domain_registration_length</th><th scope=col>Favicon</th><th scope=col>⋯</th><th scope=col>popUpWindow</th><th scope=col>Iframe</th><th scope=col>age_of_domain</th><th scope=col>DNSRecord</th><th scope=col>web_traffic</th><th scope=col>Page_Rank</th><th scope=col>Google_Index</th><th scope=col>Links_pointing_to_page</th><th scope=col>Statistical_report</th><th scope=col>Result</th></tr>\n",
       "\t<tr><th scope=col>&lt;dbl&gt;</th><th scope=col>&lt;dbl&gt;</th><th scope=col>&lt;dbl&gt;</th><th scope=col>&lt;dbl&gt;</th><th scope=col>&lt;dbl&gt;</th><th scope=col>&lt;dbl&gt;</th><th scope=col>&lt;dbl&gt;</th><th scope=col>&lt;dbl&gt;</th><th scope=col>&lt;dbl&gt;</th><th scope=col>&lt;dbl&gt;</th><th scope=col>⋯</th><th scope=col>&lt;dbl&gt;</th><th scope=col>&lt;dbl&gt;</th><th scope=col>&lt;dbl&gt;</th><th scope=col>&lt;dbl&gt;</th><th scope=col>&lt;dbl&gt;</th><th scope=col>&lt;dbl&gt;</th><th scope=col>&lt;dbl&gt;</th><th scope=col>&lt;dbl&gt;</th><th scope=col>&lt;dbl&gt;</th><th scope=col>&lt;dbl&gt;</th></tr>\n",
       "</thead>\n",
       "<tbody>\n",
       "\t<tr><td>-1</td><td>1</td><td> 1</td><td>1</td><td>-1</td><td>-1</td><td>-1</td><td>-1</td><td>-1</td><td>1</td><td>⋯</td><td> 1</td><td>1</td><td>-1</td><td>-1</td><td>-1</td><td>-1</td><td>1</td><td> 1</td><td>-1</td><td>-1</td></tr>\n",
       "\t<tr><td> 1</td><td>1</td><td> 1</td><td>1</td><td> 1</td><td>-1</td><td> 0</td><td> 1</td><td>-1</td><td>1</td><td>⋯</td><td> 1</td><td>1</td><td>-1</td><td>-1</td><td> 0</td><td>-1</td><td>1</td><td> 1</td><td> 1</td><td>-1</td></tr>\n",
       "\t<tr><td> 1</td><td>0</td><td> 1</td><td>1</td><td> 1</td><td>-1</td><td>-1</td><td>-1</td><td>-1</td><td>1</td><td>⋯</td><td> 1</td><td>1</td><td> 1</td><td>-1</td><td> 1</td><td>-1</td><td>1</td><td> 0</td><td>-1</td><td>-1</td></tr>\n",
       "\t<tr><td> 1</td><td>0</td><td> 1</td><td>1</td><td> 1</td><td>-1</td><td>-1</td><td>-1</td><td> 1</td><td>1</td><td>⋯</td><td> 1</td><td>1</td><td>-1</td><td>-1</td><td> 1</td><td>-1</td><td>1</td><td>-1</td><td> 1</td><td>-1</td></tr>\n",
       "\t<tr><td> 1</td><td>0</td><td>-1</td><td>1</td><td> 1</td><td>-1</td><td> 1</td><td> 1</td><td>-1</td><td>1</td><td>⋯</td><td>-1</td><td>1</td><td>-1</td><td>-1</td><td> 0</td><td>-1</td><td>1</td><td> 1</td><td> 1</td><td> 1</td></tr>\n",
       "\t<tr><td>-1</td><td>0</td><td>-1</td><td>1</td><td>-1</td><td>-1</td><td> 1</td><td> 1</td><td>-1</td><td>1</td><td>⋯</td><td> 1</td><td>1</td><td> 1</td><td> 1</td><td> 1</td><td>-1</td><td>1</td><td>-1</td><td>-1</td><td> 1</td></tr>\n",
       "</tbody>\n",
       "</table>\n"
      ],
      "text/latex": [
       "A tibble: 6 × 31\n",
       "\\begin{tabular}{r|lllllllllllllllllllllllllllllll}\n",
       " having\\_IP\\_address & URL\\_Length & Shortening\\_Service & having\\_At\\_Symbol & double\\_slash\\_redirecting & Prefix\\_Suffix & having\\_Sub\\_Domain & SSLfinal\\_State & Domain\\_registration\\_length & Favicon & port & HTTPS\\_token & Request\\_URL & URL\\_of\\_Anchor & Links\\_in\\_tags & SFH & Submitting\\_to\\_email & Abnormal\\_URL & Redirect & on\\_mouseover & RightClick & popUpWindow & Iframe & age\\_of\\_domain & DNSRecord & web\\_traffic & Page\\_Rank & Google\\_Index & Links\\_pointing\\_to\\_page & Statistical\\_report & Result\\\\\n",
       " <dbl> & <dbl> & <dbl> & <dbl> & <dbl> & <dbl> & <dbl> & <dbl> & <dbl> & <dbl> & <dbl> & <dbl> & <dbl> & <dbl> & <dbl> & <dbl> & <dbl> & <dbl> & <dbl> & <dbl> & <dbl> & <dbl> & <dbl> & <dbl> & <dbl> & <dbl> & <dbl> & <dbl> & <dbl> & <dbl> & <dbl>\\\\\n",
       "\\hline\n",
       "\t -1 & 1 &  1 & 1 & -1 & -1 & -1 & -1 & -1 & 1 & 1 & -1 &  1 & -1 &  1 & -1 & -1 & -1 & 0 &  1 & 1 &  1 & 1 & -1 & -1 & -1 & -1 & 1 &  1 & -1 & -1\\\\\n",
       "\t  1 & 1 &  1 & 1 &  1 & -1 &  0 &  1 & -1 & 1 & 1 & -1 &  1 &  0 & -1 & -1 &  1 &  1 & 0 &  1 & 1 &  1 & 1 & -1 & -1 &  0 & -1 & 1 &  1 &  1 & -1\\\\\n",
       "\t  1 & 0 &  1 & 1 &  1 & -1 & -1 & -1 & -1 & 1 & 1 & -1 &  1 &  0 & -1 & -1 & -1 & -1 & 0 &  1 & 1 &  1 & 1 &  1 & -1 &  1 & -1 & 1 &  0 & -1 & -1\\\\\n",
       "\t  1 & 0 &  1 & 1 &  1 & -1 & -1 & -1 &  1 & 1 & 1 & -1 & -1 &  0 &  0 & -1 &  1 &  1 & 0 &  1 & 1 &  1 & 1 & -1 & -1 &  1 & -1 & 1 & -1 &  1 & -1\\\\\n",
       "\t  1 & 0 & -1 & 1 &  1 & -1 &  1 &  1 & -1 & 1 & 1 &  1 &  1 &  0 &  0 & -1 &  1 &  1 & 0 & -1 & 1 & -1 & 1 & -1 & -1 &  0 & -1 & 1 &  1 &  1 &  1\\\\\n",
       "\t -1 & 0 & -1 & 1 & -1 & -1 &  1 &  1 & -1 & 1 & 1 & -1 &  1 &  0 &  0 & -1 & -1 & -1 & 0 &  1 & 1 &  1 & 1 &  1 &  1 &  1 & -1 & 1 & -1 & -1 &  1\\\\\n",
       "\\end{tabular}\n"
      ],
      "text/markdown": [
       "\n",
       "A tibble: 6 × 31\n",
       "\n",
       "| having_IP_address &lt;dbl&gt; | URL_Length &lt;dbl&gt; | Shortening_Service &lt;dbl&gt; | having_At_Symbol &lt;dbl&gt; | double_slash_redirecting &lt;dbl&gt; | Prefix_Suffix &lt;dbl&gt; | having_Sub_Domain &lt;dbl&gt; | SSLfinal_State &lt;dbl&gt; | Domain_registration_length &lt;dbl&gt; | Favicon &lt;dbl&gt; | ⋯ ⋯ | popUpWindow &lt;dbl&gt; | Iframe &lt;dbl&gt; | age_of_domain &lt;dbl&gt; | DNSRecord &lt;dbl&gt; | web_traffic &lt;dbl&gt; | Page_Rank &lt;dbl&gt; | Google_Index &lt;dbl&gt; | Links_pointing_to_page &lt;dbl&gt; | Statistical_report &lt;dbl&gt; | Result &lt;dbl&gt; |\n",
       "|---|---|---|---|---|---|---|---|---|---|---|---|---|---|---|---|---|---|---|---|---|\n",
       "| -1 | 1 |  1 | 1 | -1 | -1 | -1 | -1 | -1 | 1 | ⋯ |  1 | 1 | -1 | -1 | -1 | -1 | 1 |  1 | -1 | -1 |\n",
       "|  1 | 1 |  1 | 1 |  1 | -1 |  0 |  1 | -1 | 1 | ⋯ |  1 | 1 | -1 | -1 |  0 | -1 | 1 |  1 |  1 | -1 |\n",
       "|  1 | 0 |  1 | 1 |  1 | -1 | -1 | -1 | -1 | 1 | ⋯ |  1 | 1 |  1 | -1 |  1 | -1 | 1 |  0 | -1 | -1 |\n",
       "|  1 | 0 |  1 | 1 |  1 | -1 | -1 | -1 |  1 | 1 | ⋯ |  1 | 1 | -1 | -1 |  1 | -1 | 1 | -1 |  1 | -1 |\n",
       "|  1 | 0 | -1 | 1 |  1 | -1 |  1 |  1 | -1 | 1 | ⋯ | -1 | 1 | -1 | -1 |  0 | -1 | 1 |  1 |  1 |  1 |\n",
       "| -1 | 0 | -1 | 1 | -1 | -1 |  1 |  1 | -1 | 1 | ⋯ |  1 | 1 |  1 |  1 |  1 | -1 | 1 | -1 | -1 |  1 |\n",
       "\n"
      ],
      "text/plain": [
       "  having_IP_address URL_Length Shortening_Service having_At_Symbol\n",
       "1 -1                1           1                 1               \n",
       "2  1                1           1                 1               \n",
       "3  1                0           1                 1               \n",
       "4  1                0           1                 1               \n",
       "5  1                0          -1                 1               \n",
       "6 -1                0          -1                 1               \n",
       "  double_slash_redirecting Prefix_Suffix having_Sub_Domain SSLfinal_State\n",
       "1 -1                       -1            -1                -1            \n",
       "2  1                       -1             0                 1            \n",
       "3  1                       -1            -1                -1            \n",
       "4  1                       -1            -1                -1            \n",
       "5  1                       -1             1                 1            \n",
       "6 -1                       -1             1                 1            \n",
       "  Domain_registration_length Favicon ⋯ popUpWindow Iframe age_of_domain\n",
       "1 -1                         1       ⋯  1          1      -1           \n",
       "2 -1                         1       ⋯  1          1      -1           \n",
       "3 -1                         1       ⋯  1          1       1           \n",
       "4  1                         1       ⋯  1          1      -1           \n",
       "5 -1                         1       ⋯ -1          1      -1           \n",
       "6 -1                         1       ⋯  1          1       1           \n",
       "  DNSRecord web_traffic Page_Rank Google_Index Links_pointing_to_page\n",
       "1 -1        -1          -1        1             1                    \n",
       "2 -1         0          -1        1             1                    \n",
       "3 -1         1          -1        1             0                    \n",
       "4 -1         1          -1        1            -1                    \n",
       "5 -1         0          -1        1             1                    \n",
       "6  1         1          -1        1            -1                    \n",
       "  Statistical_report Result\n",
       "1 -1                 -1    \n",
       "2  1                 -1    \n",
       "3 -1                 -1    \n",
       "4  1                 -1    \n",
       "5  1                  1    \n",
       "6 -1                  1    "
      ]
     },
     "metadata": {},
     "output_type": "display_data"
    }
   ],
   "source": [
    "head(Table_1_Raw_Phishing_Data)"
   ]
  },
  {
   "cell_type": "markdown",
   "metadata": {},
   "source": [
    "Here is an overview description of the variables we are interested in. (There were 30 predictor variables total, but we decided to focus on the following 12 predictors for efficiency.)\n",
    "\n",
    "- URL_Length: 1 if URL is more than 75 characters in length, 0 if URL is between 54 and 75 characters in length, -1 otherwise\n",
    "- having_At_Symbol: 1 if URL has an @ symbol, -1 otherwise\n",
    "- Prefix_Suffix: 1 if URL contains \"-\", -1 otherwise\n",
    "- Favicon: 1 if Favicon loaded from external domain, -1 otherwise\n",
    "- port: 1 if unsecure port used, -1 if otherwise\n",
    "- SFH: 1 if SFH is \"about: blank\", 0 if SFH refers to different domain, -1 otherwise\n",
    "- Submitting_to_email: 1 if \"mail()\" or \"mailto\" is used, -1 otherwise\n",
    "- Abnormal_URL: 1 if URL does not contain host name, -1 otherwise\n",
    "- Redirect: 1 if webpage redirects is greater than 3, 0 if between 2 or 3 redirects used, (-1 not present here)\n",
    "- on_mouseover: 1 if mousing over a link on the site changes the status bar, -1 otherwise\n",
    "- popUpWindow: 1 if popup windows contain text fields, -1 otherwise\n",
    "- Iframe: 1 if iframe (html embedded in document) used, -1 otherwise\n",
    "- Statistical_report: 1 if host belongs to top phishing IPs/domains, -1 otherwise\n",
    "\n",
    "Result: -1 is legitimate, 1 is phishing. This is the general case for all the variables.\n",
    "\n",
    "The next step would be to wrangle the data and make it tidy to perform classification. Luckily for us, in this dataset, every row is an observation (a known phishing website), every column is a variable (a feature associated with the phishing website), and every cell is its own value (Legitimate: -1, Phishing: 1). Hence, this data is tidy. "
   ]
  },
  {
   "cell_type": "markdown",
   "metadata": {},
   "source": [
    "**Here we wrangle and split the data into training, and testing sets.**"
   ]
  },
  {
   "cell_type": "code",
   "execution_count": 4,
   "metadata": {},
   "outputs": [],
   "source": [
    "set.seed(2020)\n",
    "# Paring down dataset to what we will be working with.\n",
    "# Columns selected were based on initial guesses about which variables would be \n",
    "#         most important, not on any statistical analysis (because the entire point\n",
    "#         of subsetting the variables is that doing statistical analysis on all of them\n",
    "#         would wreak havoc on our kernel/take forever)\n",
    "working_columns <- c(\"URL_Length\",\"having_At_Symbol\",\"Prefix_Suffix\",\"Favicon\",\"port\", \n",
    "                     \"SFH\",\"Abnormal_URL\",\"Redirect\",\"on_mouseover\",\"popUpWindow\", \n",
    "                     \"Iframe\",\"Statistical_report\",\"Result\")\n",
    "\n",
    "# This is the most data we could get caret to run on\n",
    "# with datasets bigger than about 3700 cross validation starts returning errors\n",
    "# i.e. \"too many ties in knn\" stops caret in its tracks (below it's still there, but it runs smoothly)\n",
    "working_data_raw <- sample_n(Table_1_Raw_Phishing_Data, size = 3700) \n",
    "\n",
    "\n",
    "# Turn result into factor, select columns of interest\n",
    "working_data <- mutate(working_data_raw, Result = as.factor(Result)) %>% select(working_columns)\n",
    "\n",
    "# Splitting data into training and testing sets\n",
    "training_rows <- working_data %>% select(Result) %>% unlist() %>% createDataPartition(p=0.75, list=FALSE)\n",
    "training_data <- working_data %>% slice(training_rows)\n",
    "testing_data <- working_data %>% slice(-training_rows)\n",
    "X_train <- training_data %>% select(-Result) %>% data.frame()\n",
    "Y_train <- training_data %>% select(Result) %>% unlist()\n",
    "X_test <- testing_data %>% select(-Result) %>% data.frame()\n",
    "Y_test <- testing_data %>% select(Result) %>% unlist()"
   ]
  },
  {
   "cell_type": "markdown",
   "metadata": {},
   "source": [
    "**Here we generate some basic summary statistics about the training data, like the number of values missing and relative abundance of observations in each class.**"
   ]
  },
  {
   "cell_type": "code",
   "execution_count": 5,
   "metadata": {},
   "outputs": [
    {
     "name": "stderr",
     "output_type": "stream",
     "text": [
      "Warning message:\n",
      "“attributes are not identical across measure variables;\n",
      "they will be dropped”"
     ]
    }
   ],
   "source": [
    "# Make a table containing a count of observations in each class\n",
    "# NOTICE: na.rm = FALSE means that if there are any NA values in the data we will see them later\n",
    "summary_tidy <- training_data %>% gather(key = \"Column\", value = \"Observation\", na.rm = FALSE)\n",
    "summary_tibble <- summary_tidy %>% group_by(Column,Observation) %>% summarize(count = n()) %>%\n",
    "                  as_tibble()\n",
    "\n",
    "# Generate a table of predictor variable abundance that we will use later in making a plot\n",
    "Table_2_Summary_Statistics_For_Predictors <- summary_tibble %>% filter(Column != \"Result\") %>%\n",
    "                         spread(key = Column, value = count, fill = 0)\n",
    "\n",
    "# Set aside a separate table for the result observations because \n",
    "#           that's the main class balance we are concerned about\n",
    "Table_3_Summary_Statistics_For_Result_Variable <- summary_tibble %>% filter(Column == \"Result\") %>% \n",
    "                    select(-Column) %>% mutate(abundance = round(count / 27.76))\n",
    "colnames(Table_3_Summary_Statistics_For_Result_Variable) <- c(\"Result\",\"Count\",\"Percent abundance\")"
   ]
  },
  {
   "cell_type": "code",
   "execution_count": 6,
   "metadata": {},
   "outputs": [
    {
     "data": {
      "text/html": [
       "<table>\n",
       "<caption>A tibble: 3 × 13</caption>\n",
       "<thead>\n",
       "\t<tr><th scope=col>Observation</th><th scope=col>Abnormal_URL</th><th scope=col>Favicon</th><th scope=col>having_At_Symbol</th><th scope=col>Iframe</th><th scope=col>on_mouseover</th><th scope=col>popUpWindow</th><th scope=col>port</th><th scope=col>Prefix_Suffix</th><th scope=col>Redirect</th><th scope=col>SFH</th><th scope=col>Statistical_report</th><th scope=col>URL_Length</th></tr>\n",
       "\t<tr><th scope=col>&lt;chr&gt;</th><th scope=col>&lt;dbl&gt;</th><th scope=col>&lt;dbl&gt;</th><th scope=col>&lt;dbl&gt;</th><th scope=col>&lt;dbl&gt;</th><th scope=col>&lt;dbl&gt;</th><th scope=col>&lt;dbl&gt;</th><th scope=col>&lt;dbl&gt;</th><th scope=col>&lt;dbl&gt;</th><th scope=col>&lt;dbl&gt;</th><th scope=col>&lt;dbl&gt;</th><th scope=col>&lt;dbl&gt;</th><th scope=col>&lt;dbl&gt;</th></tr>\n",
       "</thead>\n",
       "<tbody>\n",
       "\t<tr><td>-1</td><td> 419</td><td> 518</td><td> 427</td><td> 261</td><td> 326</td><td> 549</td><td> 377</td><td>2401</td><td>   0</td><td>2121</td><td> 372</td><td>2240</td></tr>\n",
       "\t<tr><td>0 </td><td>   0</td><td>   0</td><td>   0</td><td>   0</td><td>   0</td><td>   0</td><td>   0</td><td>   0</td><td>2436</td><td> 198</td><td>   0</td><td>  31</td></tr>\n",
       "\t<tr><td>1 </td><td>2357</td><td>2258</td><td>2349</td><td>2515</td><td>2450</td><td>2227</td><td>2399</td><td> 375</td><td> 340</td><td> 457</td><td>2404</td><td> 505</td></tr>\n",
       "</tbody>\n",
       "</table>\n"
      ],
      "text/latex": [
       "A tibble: 3 × 13\n",
       "\\begin{tabular}{r|lllllllllllll}\n",
       " Observation & Abnormal\\_URL & Favicon & having\\_At\\_Symbol & Iframe & on\\_mouseover & popUpWindow & port & Prefix\\_Suffix & Redirect & SFH & Statistical\\_report & URL\\_Length\\\\\n",
       " <chr> & <dbl> & <dbl> & <dbl> & <dbl> & <dbl> & <dbl> & <dbl> & <dbl> & <dbl> & <dbl> & <dbl> & <dbl>\\\\\n",
       "\\hline\n",
       "\t -1 &  419 &  518 &  427 &  261 &  326 &  549 &  377 & 2401 &    0 & 2121 &  372 & 2240\\\\\n",
       "\t 0  &    0 &    0 &    0 &    0 &    0 &    0 &    0 &    0 & 2436 &  198 &    0 &   31\\\\\n",
       "\t 1  & 2357 & 2258 & 2349 & 2515 & 2450 & 2227 & 2399 &  375 &  340 &  457 & 2404 &  505\\\\\n",
       "\\end{tabular}\n"
      ],
      "text/markdown": [
       "\n",
       "A tibble: 3 × 13\n",
       "\n",
       "| Observation &lt;chr&gt; | Abnormal_URL &lt;dbl&gt; | Favicon &lt;dbl&gt; | having_At_Symbol &lt;dbl&gt; | Iframe &lt;dbl&gt; | on_mouseover &lt;dbl&gt; | popUpWindow &lt;dbl&gt; | port &lt;dbl&gt; | Prefix_Suffix &lt;dbl&gt; | Redirect &lt;dbl&gt; | SFH &lt;dbl&gt; | Statistical_report &lt;dbl&gt; | URL_Length &lt;dbl&gt; |\n",
       "|---|---|---|---|---|---|---|---|---|---|---|---|---|\n",
       "| -1 |  419 |  518 |  427 |  261 |  326 |  549 |  377 | 2401 |    0 | 2121 |  372 | 2240 |\n",
       "| 0  |    0 |    0 |    0 |    0 |    0 |    0 |    0 |    0 | 2436 |  198 |    0 |   31 |\n",
       "| 1  | 2357 | 2258 | 2349 | 2515 | 2450 | 2227 | 2399 |  375 |  340 |  457 | 2404 |  505 |\n",
       "\n"
      ],
      "text/plain": [
       "  Observation Abnormal_URL Favicon having_At_Symbol Iframe on_mouseover\n",
       "1 -1           419          518     427              261    326        \n",
       "2 0              0            0       0                0      0        \n",
       "3 1           2357         2258    2349             2515   2450        \n",
       "  popUpWindow port Prefix_Suffix Redirect SFH  Statistical_report URL_Length\n",
       "1  549         377 2401             0     2121  372               2240      \n",
       "2    0           0    0          2436      198    0                 31      \n",
       "3 2227        2399  375           340      457 2404                505      "
      ]
     },
     "metadata": {},
     "output_type": "display_data"
    }
   ],
   "source": [
    "Table_2_Summary_Statistics_For_Predictors"
   ]
  },
  {
   "cell_type": "code",
   "execution_count": 7,
   "metadata": {},
   "outputs": [
    {
     "data": {
      "text/html": [
       "<table>\n",
       "<caption>A tibble: 2 × 3</caption>\n",
       "<thead>\n",
       "\t<tr><th scope=col>Result</th><th scope=col>Count</th><th scope=col>Percent abundance</th></tr>\n",
       "\t<tr><th scope=col>&lt;chr&gt;</th><th scope=col>&lt;int&gt;</th><th scope=col>&lt;dbl&gt;</th></tr>\n",
       "</thead>\n",
       "<tbody>\n",
       "\t<tr><td>-1</td><td>1247</td><td>45</td></tr>\n",
       "\t<tr><td>1 </td><td>1529</td><td>55</td></tr>\n",
       "</tbody>\n",
       "</table>\n"
      ],
      "text/latex": [
       "A tibble: 2 × 3\n",
       "\\begin{tabular}{r|lll}\n",
       " Result & Count & Percent abundance\\\\\n",
       " <chr> & <int> & <dbl>\\\\\n",
       "\\hline\n",
       "\t -1 & 1247 & 45\\\\\n",
       "\t 1  & 1529 & 55\\\\\n",
       "\\end{tabular}\n"
      ],
      "text/markdown": [
       "\n",
       "A tibble: 2 × 3\n",
       "\n",
       "| Result &lt;chr&gt; | Count &lt;int&gt; | Percent abundance &lt;dbl&gt; |\n",
       "|---|---|---|\n",
       "| -1 | 1247 | 45 |\n",
       "| 1  | 1529 | 55 |\n",
       "\n"
      ],
      "text/plain": [
       "  Result Count Percent abundance\n",
       "1 -1     1247  45               \n",
       "2 1      1529  55               "
      ]
     },
     "metadata": {},
     "output_type": "display_data"
    }
   ],
   "source": [
    "Table_3_Summary_Statistics_For_Result_Variable"
   ]
  },
  {
   "cell_type": "markdown",
   "metadata": {},
   "source": [
    "There are advantages to this data. As shown above, observations for the result variable are relatively balanced. This means we don't have to scale the data because:  \n",
    "\n",
    "(a) it's already pretty balanced, and  \n",
    " (b) it's all categorical!  \n",
    " \n",
    "Additionally, as shown by na.rm = FALSE, there are no missing data points in our dataset.  \n",
    "\n",
    "However, this data also has its drawbacks. The main problem with this data is that we can't visualize it very well. As our dataset is composed mainly of categorical variables, bivariate scatterplots would yield a bunch of points stacked right on top of each other at (-1, -1), (-1, 1), (1, -1), and (1, 1). \n",
    "We're going to try and get around this visualization problem by using ggpairs later, but just note as an aside that categorical predictors are best visualized using a decision-tree type algorithm and tree diagram, which isn't applicable to our current data analysis.\n"
   ]
  },
  {
   "cell_type": "markdown",
   "metadata": {},
   "source": [
    "**We did not include the means of the predictors because all predictors were categorical and the mean would be meaningless. Instead, we included the relative distribution of predictors in the plot below.**"
   ]
  },
  {
   "cell_type": "code",
   "execution_count": 8,
   "metadata": {},
   "outputs": [
    {
     "data": {
      "image/png": "[encoded data removed]",
      "text/plain": [
       "plot without title"
      ]
     },
     "metadata": {},
     "output_type": "display_data"
    }
   ],
   "source": [
    "# generate plot from the above table regarding only predictor variables\n",
    "library(RColorBrewer)\n",
    "options(repr.plot.width = 10, repr.plot.height = 5)\n",
    "(predictor_dist_plot <- summary_tibble %>% filter(Column != \"Result\") %>%\n",
    "                     ggplot(aes(x = Column, y = count / 27.76, fill = Observation)) +\n",
    "                     geom_bar(stat = \"identity\") +\n",
    "                     scale_fill_brewer(palette = \"Set1\", \n",
    "                                        labels = c(\"Legitimate (-1)\",\"Suspicious (0)\",\"Phishing (1)\")) +\n",
    "                     labs(x = \"Predictor Type\", \n",
    "                          y = \"Proportion of Observed Values (%)\",\n",
    "                         fill = \"Observed Value\") +\n",
    "                     theme(axis.text.x = element_text(angle = 45, hjust = 1)) +\n",
    "                     ggtitle(\"Figure 1 - Distribution of Predictors in Training Set\"))"
   ]
  },
  {
   "cell_type": "markdown",
   "metadata": {},
   "source": [
    "**Below, we perform 5 fold cross-validation, and then train a model based on the best k.**"
   ]
  },
  {
   "cell_type": "code",
   "execution_count": 9,
   "metadata": {},
   "outputs": [
    {
     "data": {
      "text/plain": [
       "k-Nearest Neighbors \n",
       "\n",
       "2776 samples\n",
       "  12 predictor\n",
       "   2 classes: '-1', '1' \n",
       "\n",
       "No pre-processing\n",
       "Resampling: Cross-Validated (5 fold) \n",
       "Summary of sample sizes: 2222, 2220, 2221, 2220, 2221 \n",
       "Resampling results across tuning parameters:\n",
       "\n",
       "  k   Accuracy   Kappa    \n",
       "   1  0.6948949  0.4005561\n",
       "   3  0.6905777  0.3925129\n",
       "   5  0.6873299  0.3864555\n",
       "   7  0.6848146  0.3824685\n",
       "   9  0.6776145  0.3687158\n",
       "  11  0.6765347  0.3663173\n",
       "  13  0.6779768  0.3688963\n",
       "  15  0.6808551  0.3739769\n",
       "  17  0.6794111  0.3708429\n",
       "  19  0.6768944  0.3660044\n",
       "  21  0.6772548  0.3664707\n",
       "  23  0.6740161  0.3603329\n",
       "  25  0.6732973  0.3592767\n",
       "  27  0.6740219  0.3608373\n",
       "  29  0.6751017  0.3627196\n",
       "  31  0.6743771  0.3611445\n",
       "\n",
       "Accuracy was used to select the optimal model using the largest value.\n",
       "The final value used for the model was k = 1."
      ]
     },
     "metadata": {},
     "output_type": "display_data"
    }
   ],
   "source": [
    "# Performing five-fold cross-validation to pick k\n",
    "ks <- data.frame(k = seq(from = 1, to = 31, by = 2))\n",
    "train_control <- trainControl(method = \"cv\", number = 5)\n",
    "(choose_k_all <- train(x = X_train, y = Y_train, method = \"knn\", tuneGrid = ks, trControl = train_control))"
   ]
  },
  {
   "cell_type": "markdown",
   "metadata": {},
   "source": [
    "**The cross-validation process is visualized below by a plot of accuracy versus different values of k.**"
   ]
  },
  {
   "cell_type": "code",
   "execution_count": 10,
   "metadata": {
    "scrolled": true
   },
   "outputs": [
    {
     "data": {
      "image/png": "[encoded data removed]",
      "text/plain": [
       "plot without title"
      ]
     },
     "metadata": {},
     "output_type": "display_data"
    }
   ],
   "source": [
    "# Visualizing the different accuracies vs their k values\n",
    "options(repr.plot.width=6, repr.plot.height=6)\n",
    "(accuracies_all_plot <- choose_k_all$results %>%\n",
    "    select(k, Accuracy) %>%\n",
    "    ggplot(aes(x=k,y=Accuracy)) +\n",
    "    geom_point() +\n",
    "    geom_line() +\n",
    "    labs(x = \"K Value\",\n",
    "         y = \"Accuracy\", \n",
    "         title = \"Figure 2 - Accuracies using 5-fold Cross-validation\") +\n",
    "    scale_x_continuous(breaks = seq(from = 1, to = 31, by = 4)) +\n",
    "    scale_y_continuous(limit = c(0.67, 0.70)))\n"
   ]
  },
  {
   "cell_type": "markdown",
   "metadata": {},
   "source": [
    "As seen above, the most accurate model is obtained by using k = 1, although the absolute accuracy difference between k = 1 and k = 31 is very small, and the upper bound on accuracy seems to be 69.5%. This suggests that either phishing websites and legitimate websites may have more in common than we first thought, or we can only have so much confidence in a model which focuses on a subset of the data, or a combination of both."
   ]
  },
  {
   "cell_type": "code",
   "execution_count": 11,
   "metadata": {},
   "outputs": [
    {
     "name": "stderr",
     "output_type": "stream",
     "text": [
      "Warning message:\n",
      "“predictions failed for Resample02: k=1 Error in knn3Train(train = structure(c(1, -1, -1, -1, -1, -1, 1, -1, -1,  : \n",
      "  too many ties in knn\n",
      "”Warning message:\n",
      "“predictions failed for Resample03: k=1 Error in knn3Train(train = structure(c(-1, -1, -1, -1, -1, -1, -1, -1,  : \n",
      "  too many ties in knn\n",
      "”Warning message:\n",
      "“predictions failed for Resample06: k=1 Error in knn3Train(train = structure(c(1, -1, -1, -1, -1, -1, -1, -1,  : \n",
      "  too many ties in knn\n",
      "”Warning message:\n",
      "“predictions failed for Resample09: k=1 Error in knn3Train(train = structure(c(-1, -1, 1, -1, -1, -1, -1, -1,  : \n",
      "  too many ties in knn\n",
      "”Warning message:\n",
      "“predictions failed for Resample12: k=1 Error in knn3Train(train = structure(c(-1, -1, 1, -1, -1, -1, -1, -1,  : \n",
      "  too many ties in knn\n",
      "”Warning message:\n",
      "“predictions failed for Resample14: k=1 Error in knn3Train(train = structure(c(1, 1, 1, 1, -1, -1, -1, -1, -1,  : \n",
      "  too many ties in knn\n",
      "”Warning message:\n",
      "“predictions failed for Resample16: k=1 Error in knn3Train(train = structure(c(-1, -1, 1, 1, -1, -1, -1, -1, -1,  : \n",
      "  too many ties in knn\n",
      "”Warning message:\n",
      "“predictions failed for Resample17: k=1 Error in knn3Train(train = structure(c(1, -1, -1, -1, -1, -1, -1, 1, -1,  : \n",
      "  too many ties in knn\n",
      "”Warning message:\n",
      "“predictions failed for Resample20: k=1 Error in knn3Train(train = structure(c(1, 1, 1, -1, 1, -1, -1, -1, -1,  : \n",
      "  too many ties in knn\n",
      "”Warning message in nominalTrainWorkflow(x = x, y = y, wts = weights, info = trainInfo, :\n",
      "“There were missing values in resampled performance measures.”"
     ]
    },
    {
     "data": {
      "text/plain": [
       "Confusion Matrix and Statistics\n",
       "\n",
       "          Reference\n",
       "Prediction  -1   1\n",
       "        -1 345 211\n",
       "        1   70 298\n",
       "                                          \n",
       "               Accuracy : 0.6959          \n",
       "                 95% CI : (0.6651, 0.7254)\n",
       "    No Information Rate : 0.5509          \n",
       "    P-Value [Acc > NIR] : < 2.2e-16       \n",
       "                                          \n",
       "                  Kappa : 0.4041          \n",
       "                                          \n",
       " Mcnemar's Test P-Value : < 2.2e-16       \n",
       "                                          \n",
       "            Sensitivity : 0.8313          \n",
       "            Specificity : 0.5855          \n",
       "         Pos Pred Value : 0.6205          \n",
       "         Neg Pred Value : 0.8098          \n",
       "             Prevalence : 0.4491          \n",
       "         Detection Rate : 0.3734          \n",
       "   Detection Prevalence : 0.6017          \n",
       "      Balanced Accuracy : 0.7084          \n",
       "                                          \n",
       "       'Positive' Class : -1              \n",
       "                                          "
      ]
     },
     "metadata": {},
     "output_type": "display_data"
    }
   ],
   "source": [
    "# Training final model on k = 1, and displaying confusion matrix\n",
    "knn_final_model <- train(x = X_train, y = Y_train, method = \"knn\", tuneGrid = data.frame(k = 1))\n",
    "predictions_all <- predict(knn_final_model, X_test)\n",
    "(model_qual <- confusionMatrix(data = predictions_all, reference = Y_test))"
   ]
  },
  {
   "cell_type": "markdown",
   "metadata": {},
   "source": [
    "Wow! That's a lot of error messages. Don't worry, it doesn't have a drastic effect on the final result. caret shows us those error messages because the data is categorical, and as a result there are a lot of neighbours equidistant from some of our testing observations. There's no way to get around this using categorical predictors in knn classification, and for the most part it runs smoothly anyway.  \n",
    "\n",
    "As you can see above, the final accuracy of this model is about 69.5%."
   ]
  },
  {
   "cell_type": "markdown",
   "metadata": {},
   "source": [
    "**Here we visualize the general trends in the dataset classification by plotting a row from ggpairs correlation.**"
   ]
  },
  {
   "cell_type": "code",
   "execution_count": 12,
   "metadata": {},
   "outputs": [
    {
     "data": {
      "image/png": "[encoded data removed]",
      "text/plain": [
       "plot without title"
      ]
     },
     "metadata": {},
     "output_type": "display_data"
    },
    {
     "data": {
      "image/png": "[encoded data removed]",
      "text/plain": [
       "plot without title"
      ]
     },
     "metadata": {},
     "output_type": "display_data"
    }
   ],
   "source": [
    "options(repr.plot.width=9, repr.plot.height=2)\n",
    "# Create two rows because 12 variables won't fit nicely into one ggpairs row\n",
    "phishing_pairs_1 <- working_data %>% mutate(Result = as.double(Result)) %>% \n",
    "                    select(Result,Abnormal_URL:Statistical_report) %>% ggpairs()\n",
    "phishing_pairs_2 <- working_data %>% mutate(Result = as.double(Result)) %>% \n",
    "                    select(Result,URL_Length:SFH) %>% ggpairs()\n",
    "phishing_labels_1 <- phishing_pairs_1$xAxisLabels %>% tibble() %>% filter(. != \"Result\") %>% unlist()\n",
    "phishing_labels_2 <- phishing_pairs_2$xAxisLabels %>% tibble() %>% filter(. != \"Result\") %>% unlist()\n",
    "row_1 <- lapply(2:phishing_pairs_1$ncol, function(x) getPlot(phishing_pairs_1, i = 1, j = x))\n",
    "row_2 <- lapply(2:phishing_pairs_2$ncol, function(x) getPlot(phishing_pairs_2, i = 1, j = x))\n",
    "                \n",
    "# Print the two rows of ggpairs on top of each other\n",
    "ggmatrix(row_1, nrow = 1, ncol = phishing_pairs_1$ncol - 1, \n",
    "         xAxisLabels = phishing_labels_1, \n",
    "         yAxisLabels = \"Result\") +\n",
    "        theme(axis.text.x=element_blank(),\n",
    "            axis.ticks.x=element_blank(),\n",
    "            axis.text.y=element_blank(),\n",
    "            axis.ticks.y=element_blank()) +\n",
    "        ggtitle(\"Figure 3 - All Correlations of Predictors To Result\")\n",
    "ggmatrix(row_2, nrow = 1, ncol = phishing_pairs_2$ncol - 1, \n",
    "         xAxisLabels = phishing_labels_2, \n",
    "         yAxisLabels = \"Result\") +\n",
    "        theme(axis.text.x=element_blank(),\n",
    "            axis.ticks.x=element_blank(),\n",
    "            axis.text.y=element_blank(),\n",
    "            axis.ticks.y=element_blank())\n",
    "\n"
   ]
  },
  {
   "cell_type": "markdown",
   "metadata": {},
   "source": [
    "**RESULTS:** \n",
    "\n",
    "In summary, using a basic knn classification model to predict phishing sites with 5-fold cross validation, it was found that k = 1 yielded the highest accuracy (0.6949) across the training data (Figure 2). Additionally, the final model trained on k = 1 performed modestly well on the testing data, with an accuracy of 0.6959. The most important predictor of phishing websites turned out to be whether the url contained a hyphen (Prefix_Suffix), and whether the SFH is blank (SFH) (Figure 3)."
   ]
  },
  {
   "cell_type": "markdown",
   "metadata": {},
   "source": [
    "**DISCUSSION:**\n",
    " \n",
    "As stated above, the most important predictors of a website’s legitimacy seemed to be SFH, which looks at whether the server form handler is “about:blank”, and Prefix_Suffix, which looks at whether the website’s url contains a hyphen. We expected that SFH would be pretty important, as form handlers deal with information submitted from the user in forms (Satapathy, Senkerik,  Somanah, Bhateja, & Yang, 2019), so it’s not that hard to see why a form handler that claims it’s doing nothing with that data would be incredibly suspicious. What surprised us was the presence of a hyphen in the url being so indicative of a phishing website. This correlation may have been due to the fact that hyphens are not used in domain names, typically reserved for naming directories or subfolders (MOZ, n.d.), and that hyphenated domain name would indicate an unprofessional developer who is less likely to be known and trusted.\n",
    "\n",
    " \n",
    "Regarding the models themselves, the accuracy of knn peaked around 69.5% at best, and the final model used k = 1. k = 1 yielding the best accuracy came as a surprise, since typically this low of a k tends to overfit the training data. This low of a k means that all the knn models are underfitting the dataset, and this either implies that the underlying trend follows a ‘rough’ pattern and that the characteristics of a phishing website differ a lot from one website to the next, or that the chosen predictors have very little correlation with a website’s legitimacy. The rather low accuracy limit would suggest that the latter is more likely, and this can be seen in Figure 3, where most of the predictors chosen have an absolute correlation value of less than 0.1. Despite this, the model was still a success, predicting phishing websites better than just guessing (50% accuracy); this is probably due to the presence of predictors like SFH and Prefix_Suffix, which have been shown to have a significant correlation with the result.\n",
    "Our findings could have many impacts on further research in addition to practical applications of phishing detection in browsers.  \n",
    "\n",
    "While our model peaked at ~70% accuracy, we could use our research to inform a better combination of predictor variables which could improve our classification accuracy. We also must consider the practicality of using 12 predictors in real world applications of our model. Having a large number of predictors could be desirable for a user who wants to detect phishing while they do their typical web browsing, since the model considers many factors about the suspicious website. Finding a classifier which accurately predicts whether a website is legitimate or intended for phishing could allow browsers and online services to warn users from accidentally clicking on malicious links. However, using 12 predictors to classify large datasets may take a long time, creating an incentive to train a more accurate model that uses less variables.  \n",
    "\n",
    "So where do we go from here? The partial success of our knn model sets a clear course of action for future studies to try out different combinations of predictor variables. Filtering out the unhelpful variables would improve performance and noise in the data. We have shown above that a knn model has all the potential to predict phishing websites effectively if given the right variables, and now all that’s left is the search for what those variables are. \n"
   ]
  },
  {
   "cell_type": "markdown",
   "metadata": {},
   "source": [
    "**CITATIONS:**\n",
    "\n",
    "Moz. (n.d.). *Domains*. Moz. https://moz.com/learn/seo/domain\n",
    "\n",
    "Satapathy, S. C., Senkerik, R., Somanah, R., Bhateja, V., & Yang, X.-S. (2019). *Information Systems Design and Intelligent Applications: Proceedings of Fifth International Conference India 2018 Volume 1*. Springer Singapore.  \n",
    "\n"
   ]
  },
  {
   "cell_type": "code",
   "execution_count": null,
   "metadata": {},
   "outputs": [],
   "source": []
  }
 ],
 "metadata": {
  "kernelspec": {
   "display_name": "R",
   "language": "R",
   "name": "ir"
  },
  "language_info": {
   "codemirror_mode": "r",
   "file_extension": ".r",
   "mimetype": "text/x-r-source",
   "name": "R",
   "pygments_lexer": "r",
   "version": "3.6.1"
  }
 },
 "nbformat": 4,
 "nbformat_minor": 4
}
