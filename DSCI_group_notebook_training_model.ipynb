{
 "cells": [
  {
   "cell_type": "markdown",
   "metadata": {},
   "source": [
    "**DSCI 100 GROUP PROPOSAL:  \n",
    "A CLASSIFICATION MODEL TO DETECT PHISHING WEBSITES**"
   ]
  },
  {
   "cell_type": "markdown",
   "metadata": {},
   "source": [
    "**INTRODUCTION:**  \n",
    "The term phishing is defined as the fraudulent attempt to obtain sensitive information such as usernames, passwords and credit card details by disguising oneself as a trustworthy entity in an electronic communication. The purpose of a phishing website is to steal personal information or other confidential information by tricking the victim into believing that the website is legitimate. \n",
    "\n",
    "We want to answer the question: how accurately could a statistical classifier predict if a website was a legitimate service, a phishing scam, or somewhere in between, based on several variables? By making a classifier this way, we can find out if some features are more common and specific to the phishing websites than legitimate ones, or conversely if there are there features that are falsely associated with phishing websites. \n",
    "\n",
    "The large data set that we are using was obtained from a machine learning database: https://archive.ics.uci.edu/ml/machine-learning-databases/00327/  \n",
    "and contains information about the features that are commonly associated with phishing websites, such as unsecure ports, text in pop-up windows, etc. These features are usually evaluated while making a model that distinguishes between legitimate and phishing websites. For a more specific description of each variable we are looking at, see PRELIMINARY ANALYSIS.\n"
   ]
  },
  {
   "cell_type": "markdown",
   "metadata": {},
   "source": [
    "**PRELIMINARY EXPLORATORY DATA ANALYSIS:  \n",
    "Here we read in the data from the web and interpret the dataset's columns.**"
   ]
  },
  {
   "cell_type": "code",
   "execution_count": 1,
   "metadata": {
    "scrolled": true
   },
   "outputs": [
    {
     "name": "stderr",
     "output_type": "stream",
     "text": [
      "── \u001b[1mAttaching packages\u001b[22m ─────────────────────────────────────── tidyverse 1.2.1 ──\n",
      "\u001b[32m✔\u001b[39m \u001b[34mggplot2\u001b[39m 3.2.0     \u001b[32m✔\u001b[39m \u001b[34mpurrr  \u001b[39m 0.3.2\n",
      "\u001b[32m✔\u001b[39m \u001b[34mtibble \u001b[39m 2.1.3     \u001b[32m✔\u001b[39m \u001b[34mdplyr  \u001b[39m 0.8.3\n",
      "\u001b[32m✔\u001b[39m \u001b[34mtidyr  \u001b[39m 0.8.3     \u001b[32m✔\u001b[39m \u001b[34mstringr\u001b[39m 1.4.0\n",
      "\u001b[32m✔\u001b[39m \u001b[34mreadr  \u001b[39m 1.3.1     \u001b[32m✔\u001b[39m \u001b[34mforcats\u001b[39m 0.4.0\n",
      "── \u001b[1mConflicts\u001b[22m ────────────────────────────────────────── tidyverse_conflicts() ──\n",
      "\u001b[31m✖\u001b[39m \u001b[34mdplyr\u001b[39m::\u001b[32mfilter()\u001b[39m masks \u001b[34mstats\u001b[39m::filter()\n",
      "\u001b[31m✖\u001b[39m \u001b[34mdplyr\u001b[39m::\u001b[32mlag()\u001b[39m    masks \u001b[34mstats\u001b[39m::lag()\n",
      "Loading required package: lattice\n",
      "\n",
      "Attaching package: ‘caret’\n",
      "\n",
      "The following object is masked from ‘package:purrr’:\n",
      "\n",
      "    lift\n",
      "\n"
     ]
    }
   ],
   "source": [
    "# Load things that we need\n",
    "library(tidyverse)\n",
    "library(repr)\n",
    "library(caret)"
   ]
  },
  {
   "cell_type": "code",
   "execution_count": 2,
   "metadata": {
    "scrolled": true
   },
   "outputs": [
    {
     "name": "stderr",
     "output_type": "stream",
     "text": [
      "Parsed with column specification:\n",
      "cols(\n",
      "  .default = col_double()\n",
      ")\n",
      "See spec(...) for full column specifications.\n"
     ]
    },
    {
     "data": {
      "text/html": [
       "<table>\n",
       "<caption>A tibble: 6 × 31</caption>\n",
       "<thead>\n",
       "\t<tr><th scope=col>having_IP_address</th><th scope=col>URL_Length</th><th scope=col>Shortening_Service</th><th scope=col>having_At_Symbol</th><th scope=col>double_slash_redirecting</th><th scope=col>Prefix_Suffix</th><th scope=col>having_Sub_Domain</th><th scope=col>SSLfinal_State</th><th scope=col>Domain_registration_length</th><th scope=col>Favicon</th><th scope=col>⋯</th><th scope=col>popUpWindow</th><th scope=col>Iframe</th><th scope=col>age_of_domain</th><th scope=col>DNSRecord</th><th scope=col>web_traffic</th><th scope=col>Page_Rank</th><th scope=col>Google_Index</th><th scope=col>Links_pointing_to_page</th><th scope=col>Statistical_report</th><th scope=col>Result</th></tr>\n",
       "\t<tr><th scope=col>&lt;dbl&gt;</th><th scope=col>&lt;dbl&gt;</th><th scope=col>&lt;dbl&gt;</th><th scope=col>&lt;dbl&gt;</th><th scope=col>&lt;dbl&gt;</th><th scope=col>&lt;dbl&gt;</th><th scope=col>&lt;dbl&gt;</th><th scope=col>&lt;dbl&gt;</th><th scope=col>&lt;dbl&gt;</th><th scope=col>&lt;dbl&gt;</th><th scope=col>⋯</th><th scope=col>&lt;dbl&gt;</th><th scope=col>&lt;dbl&gt;</th><th scope=col>&lt;dbl&gt;</th><th scope=col>&lt;dbl&gt;</th><th scope=col>&lt;dbl&gt;</th><th scope=col>&lt;dbl&gt;</th><th scope=col>&lt;dbl&gt;</th><th scope=col>&lt;dbl&gt;</th><th scope=col>&lt;dbl&gt;</th><th scope=col>&lt;dbl&gt;</th></tr>\n",
       "</thead>\n",
       "<tbody>\n",
       "\t<tr><td>-1</td><td>1</td><td> 1</td><td>1</td><td>-1</td><td>-1</td><td>-1</td><td>-1</td><td>-1</td><td>1</td><td>⋯</td><td> 1</td><td>1</td><td>-1</td><td>-1</td><td>-1</td><td>-1</td><td>1</td><td> 1</td><td>-1</td><td>-1</td></tr>\n",
       "\t<tr><td> 1</td><td>1</td><td> 1</td><td>1</td><td> 1</td><td>-1</td><td> 0</td><td> 1</td><td>-1</td><td>1</td><td>⋯</td><td> 1</td><td>1</td><td>-1</td><td>-1</td><td> 0</td><td>-1</td><td>1</td><td> 1</td><td> 1</td><td>-1</td></tr>\n",
       "\t<tr><td> 1</td><td>0</td><td> 1</td><td>1</td><td> 1</td><td>-1</td><td>-1</td><td>-1</td><td>-1</td><td>1</td><td>⋯</td><td> 1</td><td>1</td><td> 1</td><td>-1</td><td> 1</td><td>-1</td><td>1</td><td> 0</td><td>-1</td><td>-1</td></tr>\n",
       "\t<tr><td> 1</td><td>0</td><td> 1</td><td>1</td><td> 1</td><td>-1</td><td>-1</td><td>-1</td><td> 1</td><td>1</td><td>⋯</td><td> 1</td><td>1</td><td>-1</td><td>-1</td><td> 1</td><td>-1</td><td>1</td><td>-1</td><td> 1</td><td>-1</td></tr>\n",
       "\t<tr><td> 1</td><td>0</td><td>-1</td><td>1</td><td> 1</td><td>-1</td><td> 1</td><td> 1</td><td>-1</td><td>1</td><td>⋯</td><td>-1</td><td>1</td><td>-1</td><td>-1</td><td> 0</td><td>-1</td><td>1</td><td> 1</td><td> 1</td><td> 1</td></tr>\n",
       "\t<tr><td>-1</td><td>0</td><td>-1</td><td>1</td><td>-1</td><td>-1</td><td> 1</td><td> 1</td><td>-1</td><td>1</td><td>⋯</td><td> 1</td><td>1</td><td> 1</td><td> 1</td><td> 1</td><td>-1</td><td>1</td><td>-1</td><td>-1</td><td> 1</td></tr>\n",
       "</tbody>\n",
       "</table>\n"
      ],
      "text/latex": [
       "A tibble: 6 × 31\n",
       "\\begin{tabular}{r|lllllllllllllllllllllllllllllll}\n",
       " having\\_IP\\_address & URL\\_Length & Shortening\\_Service & having\\_At\\_Symbol & double\\_slash\\_redirecting & Prefix\\_Suffix & having\\_Sub\\_Domain & SSLfinal\\_State & Domain\\_registration\\_length & Favicon & port & HTTPS\\_token & Request\\_URL & URL\\_of\\_Anchor & Links\\_in\\_tags & SFH & Submitting\\_to\\_email & Abnormal\\_URL & Redirect & on\\_mouseover & RightClick & popUpWindow & Iframe & age\\_of\\_domain & DNSRecord & web\\_traffic & Page\\_Rank & Google\\_Index & Links\\_pointing\\_to\\_page & Statistical\\_report & Result\\\\\n",
       " <dbl> & <dbl> & <dbl> & <dbl> & <dbl> & <dbl> & <dbl> & <dbl> & <dbl> & <dbl> & <dbl> & <dbl> & <dbl> & <dbl> & <dbl> & <dbl> & <dbl> & <dbl> & <dbl> & <dbl> & <dbl> & <dbl> & <dbl> & <dbl> & <dbl> & <dbl> & <dbl> & <dbl> & <dbl> & <dbl> & <dbl>\\\\\n",
       "\\hline\n",
       "\t -1 & 1 &  1 & 1 & -1 & -1 & -1 & -1 & -1 & 1 & 1 & -1 &  1 & -1 &  1 & -1 & -1 & -1 & 0 &  1 & 1 &  1 & 1 & -1 & -1 & -1 & -1 & 1 &  1 & -1 & -1\\\\\n",
       "\t  1 & 1 &  1 & 1 &  1 & -1 &  0 &  1 & -1 & 1 & 1 & -1 &  1 &  0 & -1 & -1 &  1 &  1 & 0 &  1 & 1 &  1 & 1 & -1 & -1 &  0 & -1 & 1 &  1 &  1 & -1\\\\\n",
       "\t  1 & 0 &  1 & 1 &  1 & -1 & -1 & -1 & -1 & 1 & 1 & -1 &  1 &  0 & -1 & -1 & -1 & -1 & 0 &  1 & 1 &  1 & 1 &  1 & -1 &  1 & -1 & 1 &  0 & -1 & -1\\\\\n",
       "\t  1 & 0 &  1 & 1 &  1 & -1 & -1 & -1 &  1 & 1 & 1 & -1 & -1 &  0 &  0 & -1 &  1 &  1 & 0 &  1 & 1 &  1 & 1 & -1 & -1 &  1 & -1 & 1 & -1 &  1 & -1\\\\\n",
       "\t  1 & 0 & -1 & 1 &  1 & -1 &  1 &  1 & -1 & 1 & 1 &  1 &  1 &  0 &  0 & -1 &  1 &  1 & 0 & -1 & 1 & -1 & 1 & -1 & -1 &  0 & -1 & 1 &  1 &  1 &  1\\\\\n",
       "\t -1 & 0 & -1 & 1 & -1 & -1 &  1 &  1 & -1 & 1 & 1 & -1 &  1 &  0 &  0 & -1 & -1 & -1 & 0 &  1 & 1 &  1 & 1 &  1 &  1 &  1 & -1 & 1 & -1 & -1 &  1\\\\\n",
       "\\end{tabular}\n"
      ],
      "text/markdown": [
       "\n",
       "A tibble: 6 × 31\n",
       "\n",
       "| having_IP_address &lt;dbl&gt; | URL_Length &lt;dbl&gt; | Shortening_Service &lt;dbl&gt; | having_At_Symbol &lt;dbl&gt; | double_slash_redirecting &lt;dbl&gt; | Prefix_Suffix &lt;dbl&gt; | having_Sub_Domain &lt;dbl&gt; | SSLfinal_State &lt;dbl&gt; | Domain_registration_length &lt;dbl&gt; | Favicon &lt;dbl&gt; | ⋯ ⋯ | popUpWindow &lt;dbl&gt; | Iframe &lt;dbl&gt; | age_of_domain &lt;dbl&gt; | DNSRecord &lt;dbl&gt; | web_traffic &lt;dbl&gt; | Page_Rank &lt;dbl&gt; | Google_Index &lt;dbl&gt; | Links_pointing_to_page &lt;dbl&gt; | Statistical_report &lt;dbl&gt; | Result &lt;dbl&gt; |\n",
       "|---|---|---|---|---|---|---|---|---|---|---|---|---|---|---|---|---|---|---|---|---|\n",
       "| -1 | 1 |  1 | 1 | -1 | -1 | -1 | -1 | -1 | 1 | ⋯ |  1 | 1 | -1 | -1 | -1 | -1 | 1 |  1 | -1 | -1 |\n",
       "|  1 | 1 |  1 | 1 |  1 | -1 |  0 |  1 | -1 | 1 | ⋯ |  1 | 1 | -1 | -1 |  0 | -1 | 1 |  1 |  1 | -1 |\n",
       "|  1 | 0 |  1 | 1 |  1 | -1 | -1 | -1 | -1 | 1 | ⋯ |  1 | 1 |  1 | -1 |  1 | -1 | 1 |  0 | -1 | -1 |\n",
       "|  1 | 0 |  1 | 1 |  1 | -1 | -1 | -1 |  1 | 1 | ⋯ |  1 | 1 | -1 | -1 |  1 | -1 | 1 | -1 |  1 | -1 |\n",
       "|  1 | 0 | -1 | 1 |  1 | -1 |  1 |  1 | -1 | 1 | ⋯ | -1 | 1 | -1 | -1 |  0 | -1 | 1 |  1 |  1 |  1 |\n",
       "| -1 | 0 | -1 | 1 | -1 | -1 |  1 |  1 | -1 | 1 | ⋯ |  1 | 1 |  1 |  1 |  1 | -1 | 1 | -1 | -1 |  1 |\n",
       "\n"
      ],
      "text/plain": [
       "  having_IP_address URL_Length Shortening_Service having_At_Symbol\n",
       "1 -1                1           1                 1               \n",
       "2  1                1           1                 1               \n",
       "3  1                0           1                 1               \n",
       "4  1                0           1                 1               \n",
       "5  1                0          -1                 1               \n",
       "6 -1                0          -1                 1               \n",
       "  double_slash_redirecting Prefix_Suffix having_Sub_Domain SSLfinal_State\n",
       "1 -1                       -1            -1                -1            \n",
       "2  1                       -1             0                 1            \n",
       "3  1                       -1            -1                -1            \n",
       "4  1                       -1            -1                -1            \n",
       "5  1                       -1             1                 1            \n",
       "6 -1                       -1             1                 1            \n",
       "  Domain_registration_length Favicon ⋯ popUpWindow Iframe age_of_domain\n",
       "1 -1                         1       ⋯  1          1      -1           \n",
       "2 -1                         1       ⋯  1          1      -1           \n",
       "3 -1                         1       ⋯  1          1       1           \n",
       "4  1                         1       ⋯  1          1      -1           \n",
       "5 -1                         1       ⋯ -1          1      -1           \n",
       "6 -1                         1       ⋯  1          1       1           \n",
       "  DNSRecord web_traffic Page_Rank Google_Index Links_pointing_to_page\n",
       "1 -1        -1          -1        1             1                    \n",
       "2 -1         0          -1        1             1                    \n",
       "3 -1         1          -1        1             0                    \n",
       "4 -1         1          -1        1            -1                    \n",
       "5 -1         0          -1        1             1                    \n",
       "6  1         1          -1        1            -1                    \n",
       "  Statistical_report Result\n",
       "1 -1                 -1    \n",
       "2  1                 -1    \n",
       "3 -1                 -1    \n",
       "4  1                 -1    \n",
       "5  1                  1    \n",
       "6 -1                  1    "
      ]
     },
     "metadata": {},
     "output_type": "display_data"
    }
   ],
   "source": [
    "# Get the data\n",
    "# Brute force column names because the original column names are in an \n",
    "#       annoying format which prevent us from using any shortcut\n",
    "phishing_columns <- c(\"having_IP_address\",\"URL_Length\",\"Shortening_Service\",\"having_At_Symbol\",\n",
    "                     \"double_slash_redirecting\",\"Prefix_Suffix\",\"having_Sub_Domain\",\"SSLfinal_State\",\n",
    "                     \"Domain_registration_length\",\"Favicon\",\"port\",\"HTTPS_token\",\"Request_URL\",\n",
    "                     \"URL_of_Anchor\",\"Links_in_tags\",\"SFH\",\"Submitting_to_email\",\"Abnormal_URL\",\n",
    "                     \"Redirect\",\"on_mouseover\",\"RightClick\",\"popUpWindow\",\"Iframe\",\"age_of_domain\",\n",
    "                     \"DNSRecord\",\"web_traffic\",\"Page_Rank\",\"Google_Index\",\"Links_pointing_to_page\",\n",
    "                     \"Statistical_report\",\"Result\")\n",
    "# Assign and display\n",
    "phishing <- \"https://archive.ics.uci.edu/ml/machine-learning-databases/00327/Training%20Dataset.arff\" %>%\n",
    "            read_csv(skip = 36, col_names = phishing_columns)\n",
    "head(phishing)"
   ]
  },
  {
   "cell_type": "markdown",
   "metadata": {},
   "source": [
    "An interpretation of the subset of the data we are looking at. Information from  \n",
    "https://archive.ics.uci.edu/ml/machine-learning-databases/00327/Phishing%20Websites%20Features.docx  \n",
    "Bolded values will be additionally studied in a bivariate classifier.\n",
    "\n",
    "- URL_Length: 1 if URL is more than 75 characters in length, 0 if URL is between 54 and 75 characters in length, -1 otherwise\n",
    "- having_At_Symbol: 1 if URL has an @ symbol, -1 otherwise\n",
    "- Prefix_Suffix: 1 if URL contains \"-\", -1 otherwise\n",
    "- Favicon: 1 if Favicon loaded from external domain, -1 otherwise\n",
    "- port: 1 if unsecure port used, -1 if otherwise\n",
    "- SFH: 1 if SFH is \"about: blank\", 0 if SFH refers to different domain, -1 otherwise\n",
    "- Submitting_to_email: 1 if \"mail()\" or \"mailto\" is used, -1 otherwise\n",
    "- Abnormal_URL: 1 if URL does not contain host name, -1 otherwise\n",
    "- **Redirect**: 1 if webpage redirects is greater than 3, 0 if between 2 or 3 redirects used, (-1 not present here)\n",
    "- on_mouseover: 1 if mousing over a link on the site changes the status bar, -1 otherwise\n",
    "- popUpWindow: 1 if popup windows contain text fields, -1 otherwise\n",
    "- **Iframe**: 1 if iframe (html embedded in document) used, -1 otherwise\n",
    "- Statistical_report: 1 if host belongs to top phishing IPs/domains, -1 otherwise\n",
    "\n",
    "Result: -1 is legitimate, 1 is phishing website."
   ]
  },
  {
   "cell_type": "markdown",
   "metadata": {},
   "source": [
    "**Here we split the data into training, testing, and do a mock analysis with a small subset (1000 rows) of our data.**  \n",
    "**Like our real analysis, this mock predictive model is visualized with a plot of accuracy against k, and yields a confusion matrix from the final accuracy test.**"
   ]
  },
  {
   "cell_type": "code",
   "execution_count": 3,
   "metadata": {
    "scrolled": true
   },
   "outputs": [],
   "source": [
    "set.seed(1)\n",
    "# Paring down dataset to what we will be working with.\n",
    "# Columns selected were based on initial guesses about which variables would be \n",
    "#         most important, not on any statistical analysis (because the entire point\n",
    "#         of subsetting the variables is that doing statistical analysis on all of them\n",
    "#         would wreak havoc on our kernel/take forever)\n",
    "working_columns <- c(\"URL_Length\",\"having_At_Symbol\",\"Prefix_Suffix\",\"Favicon\",\"port\", \n",
    "                     \"SFH\",\"Abnormal_URL\",\"Redirect\",\"on_mouseover\",\"popUpWindow\", \n",
    "                     \"Iframe\",\"Statistical_report\",\"Result\")\n",
    "working_data_raw <- sample_n(phishing, size = 1000)\n",
    "\n",
    "# Turn result into factor\n",
    "working_data <- mutate(working_data_raw, Result = as.factor(Result))\n",
    "\n",
    "# Splitting data into training and testing sets\n",
    "training_rows <- working_data %>% select(Result) %>% unlist() %>%\n",
    "                    createDataPartition(p=0.75, list=FALSE)\n",
    "training_data <- working_data %>% slice(training_rows) %>%\n",
    "                    select(working_columns)\n",
    "testing_data <- working_data %>% slice(-training_rows) %>%\n",
    "                    select(working_columns)\n",
    "\n",
    "# Prepping for training\n",
    "X_train <- training_data %>% select(-Result) %>% data.frame()\n",
    "Y_train <- training_data %>% select(Result) %>% unlist()\n",
    "X_test <- testing_data %>% select(-Result) %>% data.frame()\n",
    "Y_test <- testing_data %>% select(Result) %>% unlist()"
   ]
  },
  {
   "cell_type": "code",
   "execution_count": 4,
   "metadata": {
    "scrolled": true
   },
   "outputs": [
    {
     "data": {
      "text/plain": [
       "k-Nearest Neighbors \n",
       "\n",
       "751 samples\n",
       " 12 predictor\n",
       "  2 classes: '-1', '1' \n",
       "\n",
       "No pre-processing\n",
       "Resampling: Cross-Validated (5 fold) \n",
       "Summary of sample sizes: 600, 601, 601, 601, 601 \n",
       "Resampling results across tuning parameters:\n",
       "\n",
       "  k   Accuracy   Kappa    \n",
       "   1  0.6777748  0.3674280\n",
       "   3  0.6644680  0.3445341\n",
       "   5  0.6604415  0.3365985\n",
       "   7  0.6671170  0.3487153\n",
       "   9  0.6724415  0.3566621\n",
       "  11  0.6857748  0.3819734\n",
       "  13  0.6804503  0.3713769\n",
       "  15  0.6791082  0.3683775\n",
       "  17  0.6830905  0.3757826\n",
       "  19  0.6844238  0.3790073\n",
       "  21  0.6790728  0.3710973\n",
       "  23  0.6684857  0.3533556\n",
       "  25  0.6778190  0.3708621\n",
       "  27  0.6645033  0.3471308\n",
       "  29  0.6551700  0.3304952\n",
       "  31  0.6511700  0.3234291\n",
       "  33  0.6445121  0.3116132\n",
       "  35  0.6471788  0.3170544\n",
       "  37  0.6365121  0.2975570\n",
       "  39  0.6298543  0.2848441\n",
       "  41  0.6325298  0.2903658\n",
       "  43  0.6312141  0.2901448\n",
       "  45  0.6352053  0.2986672\n",
       "  47  0.6352141  0.3002720\n",
       "  49  0.6312141  0.2920216\n",
       "  51  0.6378631  0.3048042\n",
       "\n",
       "Accuracy was used to select the optimal model using the largest value.\n",
       "The final value used for the model was k = 11."
      ]
     },
     "metadata": {},
     "output_type": "display_data"
    }
   ],
   "source": [
    "# Performing five-fold cross-validation to pick k\n",
    "set.seed(1)\n",
    "k_test = data.frame(k=seq(from = 1, to = 51, by = 2))\n",
    "train_control <- trainControl(method=\"cv\", number=5)\n",
    "(choose_k <- train(x=X_train, y=Y_train, method=\"knn\", tuneGrid = k_test, trControl = train_control))"
   ]
  },
  {
   "cell_type": "code",
   "execution_count": 5,
   "metadata": {},
   "outputs": [
    {
     "data": {
      "image/png": "[encoded data removed]",
      "text/plain": [
       "plot without title"
      ]
     },
     "metadata": {},
     "output_type": "display_data"
    }
   ],
   "source": [
    "# Visualizing the different accuracies vs their k values\n",
    "options(repr.plot.width=4, repr.plot.height=4)\n",
    "accuracies <- choose_k$results %>%\n",
    "                    select(k, Accuracy)\n",
    "accuracies_plot <- ggplot(accuracies, aes(x=k, y=Accuracy)) +\n",
    "                        geom_point() +\n",
    "                        geom_line() +\n",
    "                        labs(x=\"K\", y=\"Accuracy\", title=\"Accuracy vs Different Values of K\")\n",
    "accuracies_plot"
   ]
  },
  {
   "cell_type": "code",
   "execution_count": 6,
   "metadata": {
    "scrolled": true
   },
   "outputs": [
    {
     "data": {
      "text/plain": [
       "Confusion Matrix and Statistics\n",
       "\n",
       "          Reference\n",
       "Prediction -1  1\n",
       "        -1 78 66\n",
       "        1  33 72\n",
       "                                          \n",
       "               Accuracy : 0.6024          \n",
       "                 95% CI : (0.5387, 0.6637)\n",
       "    No Information Rate : 0.5542          \n",
       "    P-Value [Acc > NIR] : 0.070853        \n",
       "                                          \n",
       "                  Kappa : 0.2181          \n",
       "                                          \n",
       " Mcnemar's Test P-Value : 0.001299        \n",
       "                                          \n",
       "            Sensitivity : 0.7027          \n",
       "            Specificity : 0.5217          \n",
       "         Pos Pred Value : 0.5417          \n",
       "         Neg Pred Value : 0.6857          \n",
       "             Prevalence : 0.4458          \n",
       "         Detection Rate : 0.3133          \n",
       "   Detection Prevalence : 0.5783          \n",
       "      Balanced Accuracy : 0.6122          \n",
       "                                          \n",
       "       'Positive' Class : -1              \n",
       "                                          "
      ]
     },
     "metadata": {},
     "output_type": "display_data"
    }
   ],
   "source": [
    "# Training mock knn_model on k = 11, and displaying confusion matrix\n",
    "knn_model <- train(x=X_train, y=Y_train, method=\"knn\", tuneGrid=data.frame(k=11))\n",
    "predictions <- predict(knn_model, X_test)\n",
    "(model_quality <- confusionMatrix(data = predictions, reference = Y_test))\n"
   ]
  },
  {
   "cell_type": "markdown",
   "metadata": {},
   "source": [
    "**Here we generate some basic summary statistics about the training data. How many values are missing, the number of observations in each class. We did not include the means of the predictors because all predictors were categorical and the mean would be meaningless. Instead, we included the relative distribution of predictors in a plot.**"
   ]
  },
  {
   "cell_type": "code",
   "execution_count": 7,
   "metadata": {},
   "outputs": [
    {
     "name": "stderr",
     "output_type": "stream",
     "text": [
      "Warning message:\n",
      "“attributes are not identical across measure variables;\n",
      "they will be dropped”"
     ]
    },
    {
     "data": {
      "text/html": [
       "<table>\n",
       "<caption>A tibble: 3 × 13</caption>\n",
       "<thead>\n",
       "\t<tr><th scope=col>Observation</th><th scope=col>Abnormal_URL</th><th scope=col>Favicon</th><th scope=col>having_At_Symbol</th><th scope=col>Iframe</th><th scope=col>on_mouseover</th><th scope=col>popUpWindow</th><th scope=col>port</th><th scope=col>Prefix_Suffix</th><th scope=col>Redirect</th><th scope=col>SFH</th><th scope=col>Statistical_report</th><th scope=col>URL_Length</th></tr>\n",
       "\t<tr><th scope=col>&lt;chr&gt;</th><th scope=col>&lt;dbl&gt;</th><th scope=col>&lt;dbl&gt;</th><th scope=col>&lt;dbl&gt;</th><th scope=col>&lt;dbl&gt;</th><th scope=col>&lt;dbl&gt;</th><th scope=col>&lt;dbl&gt;</th><th scope=col>&lt;dbl&gt;</th><th scope=col>&lt;dbl&gt;</th><th scope=col>&lt;dbl&gt;</th><th scope=col>&lt;dbl&gt;</th><th scope=col>&lt;dbl&gt;</th><th scope=col>&lt;dbl&gt;</th></tr>\n",
       "</thead>\n",
       "<tbody>\n",
       "\t<tr><td>-1</td><td>115</td><td>148</td><td>128</td><td> 70</td><td> 94</td><td>157</td><td>106</td><td>652</td><td>  0</td><td>574</td><td> 91</td><td>597</td></tr>\n",
       "\t<tr><td>0 </td><td>  0</td><td>  0</td><td>  0</td><td>  0</td><td>  0</td><td>  0</td><td>  0</td><td>  0</td><td>655</td><td> 47</td><td>  0</td><td>  8</td></tr>\n",
       "\t<tr><td>1 </td><td>636</td><td>603</td><td>623</td><td>681</td><td>657</td><td>594</td><td>645</td><td> 99</td><td> 96</td><td>130</td><td>660</td><td>146</td></tr>\n",
       "</tbody>\n",
       "</table>\n"
      ],
      "text/latex": [
       "A tibble: 3 × 13\n",
       "\\begin{tabular}{r|lllllllllllll}\n",
       " Observation & Abnormal\\_URL & Favicon & having\\_At\\_Symbol & Iframe & on\\_mouseover & popUpWindow & port & Prefix\\_Suffix & Redirect & SFH & Statistical\\_report & URL\\_Length\\\\\n",
       " <chr> & <dbl> & <dbl> & <dbl> & <dbl> & <dbl> & <dbl> & <dbl> & <dbl> & <dbl> & <dbl> & <dbl> & <dbl>\\\\\n",
       "\\hline\n",
       "\t -1 & 115 & 148 & 128 &  70 &  94 & 157 & 106 & 652 &   0 & 574 &  91 & 597\\\\\n",
       "\t 0  &   0 &   0 &   0 &   0 &   0 &   0 &   0 &   0 & 655 &  47 &   0 &   8\\\\\n",
       "\t 1  & 636 & 603 & 623 & 681 & 657 & 594 & 645 &  99 &  96 & 130 & 660 & 146\\\\\n",
       "\\end{tabular}\n"
      ],
      "text/markdown": [
       "\n",
       "A tibble: 3 × 13\n",
       "\n",
       "| Observation &lt;chr&gt; | Abnormal_URL &lt;dbl&gt; | Favicon &lt;dbl&gt; | having_At_Symbol &lt;dbl&gt; | Iframe &lt;dbl&gt; | on_mouseover &lt;dbl&gt; | popUpWindow &lt;dbl&gt; | port &lt;dbl&gt; | Prefix_Suffix &lt;dbl&gt; | Redirect &lt;dbl&gt; | SFH &lt;dbl&gt; | Statistical_report &lt;dbl&gt; | URL_Length &lt;dbl&gt; |\n",
       "|---|---|---|---|---|---|---|---|---|---|---|---|---|\n",
       "| -1 | 115 | 148 | 128 |  70 |  94 | 157 | 106 | 652 |   0 | 574 |  91 | 597 |\n",
       "| 0  |   0 |   0 |   0 |   0 |   0 |   0 |   0 |   0 | 655 |  47 |   0 |   8 |\n",
       "| 1  | 636 | 603 | 623 | 681 | 657 | 594 | 645 |  99 |  96 | 130 | 660 | 146 |\n",
       "\n"
      ],
      "text/plain": [
       "  Observation Abnormal_URL Favicon having_At_Symbol Iframe on_mouseover\n",
       "1 -1          115          148     128               70     94         \n",
       "2 0             0            0       0                0      0         \n",
       "3 1           636          603     623              681    657         \n",
       "  popUpWindow port Prefix_Suffix Redirect SFH Statistical_report URL_Length\n",
       "1 157         106  652             0      574  91                597       \n",
       "2   0           0    0           655       47   0                  8       \n",
       "3 594         645   99            96      130 660                146       "
      ]
     },
     "metadata": {},
     "output_type": "display_data"
    },
    {
     "data": {
      "text/html": [
       "<table>\n",
       "<caption>A tibble: 2 × 2</caption>\n",
       "<thead>\n",
       "\t<tr><th scope=col>Result</th><th scope=col>count</th></tr>\n",
       "\t<tr><th scope=col>&lt;chr&gt;</th><th scope=col>&lt;int&gt;</th></tr>\n",
       "</thead>\n",
       "<tbody>\n",
       "\t<tr><td>-1</td><td>334</td></tr>\n",
       "\t<tr><td>1 </td><td>417</td></tr>\n",
       "</tbody>\n",
       "</table>\n"
      ],
      "text/latex": [
       "A tibble: 2 × 2\n",
       "\\begin{tabular}{r|ll}\n",
       " Result & count\\\\\n",
       " <chr> & <int>\\\\\n",
       "\\hline\n",
       "\t -1 & 334\\\\\n",
       "\t 1  & 417\\\\\n",
       "\\end{tabular}\n"
      ],
      "text/markdown": [
       "\n",
       "A tibble: 2 × 2\n",
       "\n",
       "| Result &lt;chr&gt; | count &lt;int&gt; |\n",
       "|---|---|\n",
       "| -1 | 334 |\n",
       "| 1  | 417 |\n",
       "\n"
      ],
      "text/plain": [
       "  Result count\n",
       "1 -1     334  \n",
       "2 1      417  "
      ]
     },
     "metadata": {},
     "output_type": "display_data"
    }
   ],
   "source": [
    "# Make a table containing a count of observations in each class\n",
    "summary_tidy <- training_data %>% gather(key = \"Column\", value = \"Observation\", na.rm = FALSE)\n",
    "summary_tibble <- summary_tidy %>% group_by(Column,Observation) %>% summarize(count = n()) %>%\n",
    "                  as_tibble()\n",
    "\n",
    "# Set aside a separate table for the result observations because \n",
    "#           that's the main class balance we are concerned about\n",
    "(summary_tbl_predictors <- summary_tibble %>% filter(Column != \"Result\") %>%\n",
    "                         spread(key = Column,\n",
    "                               value = count,\n",
    "                               fill = 0))\n",
    "summary_tbl_results <- summary_tibble %>% filter(Column == \"Result\") %>% select(-Column)\n",
    "colnames(summary_tbl_results) <- c(\"Result\",\"count\")\n",
    "summary_tbl_results"
   ]
  },
  {
   "cell_type": "markdown",
   "metadata": {},
   "source": [
    "As shown by the 2x2 above, the results are decently balanced, although the predictors are not. We will see that imbalance more clearly with the plot below.  \n",
    "\n",
    "Also, notice here that if there were ANY \"n/a\" values in the dataset, na.rm = FALSE would have caught them. Instead, we see that there is actually NO missing data. Lucky us!"
   ]
  },
  {
   "cell_type": "code",
   "execution_count": 8,
   "metadata": {},
   "outputs": [
    {
     "data": {
      "image/png": "[encoded data removed]",
      "text/plain": [
       "plot without title"
      ]
     },
     "metadata": {},
     "output_type": "display_data"
    }
   ],
   "source": [
    "# plot distribution of predictor variables (since mean is useless when dealing with factors)\n",
    "library(RColorBrewer)\n",
    "options(repr.plot.width = 10, repr.plot.height = 5)\n",
    "(predictor_dist_plot <- summary_tibble %>% filter(Column != \"Result\") %>%\n",
    "                     arrange(desc(str_length(Observation))) %>%\n",
    "                     ggplot(aes(x = Column, y = count/7.51, fill = Observation)) +\n",
    "                     geom_bar(stat = \"identity\") +\n",
    "                     scale_fill_brewer(palette = \"Set1\", \n",
    "                                        labels = c(\"Legitimate (-1)\",\"Suspicious (0)\",\"Phishing (1)\")) +\n",
    "                     labs(x = \"Predictor Type\", \n",
    "                          y = \"Proportion of Observed Values (%)\",\n",
    "                         fill = \"Observed Value\") +\n",
    "                     theme(axis.text.x = element_text(angle = 45, hjust = 1)) +\n",
    "                     ggtitle(\"Distribution of Data in Training Set\"))"
   ]
  },
  {
   "cell_type": "markdown",
   "metadata": {},
   "source": [
    "Notice how almost none of the observations in any given column are found in a 1:1 ratio. This means that the average of such columns will be offset from 0, and indicates that the data requires serious scaling/normalizing."
   ]
  },
  {
   "cell_type": "markdown",
   "metadata": {},
   "source": [
    "**METHODS:**  \n",
    "Thankfully, the raw data is tidy. Every row is an observation (website), every column is a variable, and every cell is its own value. That helps cut down on the preprocessing we need to do. From its native format, we have turned the results into factors and cut the data to a manageable size for our mock prediction model by selecting the subset (12) of predictors we thought would be most important, and heading the first 1000 observations/rows. \n",
    "\n",
    "For our full project, we plan to make two k-nn classification models: a bivariate model focused solely on the effects of Iframe and Redirection, and a more complex model looking at all 12 variables used in the mock analysis. Additionally, we will increase the number of observations in our real training data, and we will scale and normalize this data to account for the slight predictor imbalance.  \n",
    "\n",
    "Along with the plots of accuracy vs. k with cross-validation and the confusion matrix of the testing of both models, we plan to visualize the bivariate model’s effectiveness via a scatterplot that shows the training data and a gradient indicating the model’s predictions, like the one found at the end of Chapter 6 in the textbook.\n",
    "\n"
   ]
  },
  {
   "cell_type": "markdown",
   "metadata": {},
   "source": [
    "**EXPECTED OUTCOMES AND SIGNIFICANCE:**  \n",
    "Firstly, we expect that both models will be fairly accurate at classifying websites (at least more than the 60% accuracy obtained in this mock analysis). Secondly, we expect that for the bivariate model, a positive observation for either IFrame, Redirect, or both variables will have a strong positive correlation with a ‘phishing’ classification. Finally, we expect that the complex (12 variable) model will be more accurate than the bivariate model.\n",
    "\n",
    "Finding a classifier which accurately predicts whether a website is legitimate or intended for phishing could allow browsers and online services (e.g. Gmail, Google, etc.) to warn users from accidentally clicking on malicious links. In a world where the most common ‘hacker exploit’ is computer illiteracy and over-trusting users, a browser program which preemptively detects and warns users about risky links could be incredibly helpful in stopping most cyberattacks. \n",
    "\n",
    "With all that said, a 12 variable k-nn model could be rather slow in a practical application setting (browser). If we find a successful predictive model with 12 variables, it would incentivize research into a more performance-savvy model by cutting some variables, which would invite the follow-up question: among all the variables, which main few have the strongest statistical correlation to a website’s likelihood of being a phishing website?\n"
   ]
  },
  {
   "cell_type": "code",
   "execution_count": null,
   "metadata": {},
   "outputs": [],
   "source": []
  }
 ],
 "metadata": {
  "kernelspec": {
   "display_name": "R",
   "language": "R",
   "name": "ir"
  },
  "language_info": {
   "codemirror_mode": "r",
   "file_extension": ".r",
   "mimetype": "text/x-r-source",
   "name": "R",
   "pygments_lexer": "r",
   "version": "3.6.1"
  }
 },
 "nbformat": 4,
 "nbformat_minor": 4
}
