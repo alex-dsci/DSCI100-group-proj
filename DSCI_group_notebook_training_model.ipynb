{
 "cells": [
  {
   "cell_type": "markdown",
   "metadata": {},
   "source": [
    "**TITLE**  \n",
    "**DO NOT HAND IN WITHOUT FINISHING**"
   ]
  },
  {
   "cell_type": "markdown",
   "metadata": {},
   "source": [
    "introduction **UNFINISHED**\n",
    "- relevant background info\n",
    "- research question\n",
    "- identify and describe the dataset"
   ]
  },
  {
   "cell_type": "markdown",
   "metadata": {},
   "source": [
    "preliminary dataset stuff **UNFINISHED**\n",
    "- read dataset to R (done)\n",
    "- split dataset into training and test set (done)\n",
    "- use training set to see number of obs in each class,mean predictor variables,rows with missing data\n",
    "- use training set to visualize data with plot\n",
    "- make plot of distributions of predictor variables"
   ]
  },
  {
   "cell_type": "code",
   "execution_count": 165,
   "metadata": {
    "scrolled": true
   },
   "outputs": [],
   "source": [
    "# Load things that we need\n",
    "library(tidyverse)\n",
    "library(repr)\n",
    "library(caret)"
   ]
  },
  {
   "cell_type": "code",
   "execution_count": 166,
   "metadata": {},
   "outputs": [
    {
     "name": "stderr",
     "output_type": "stream",
     "text": [
      "Parsed with column specification:\n",
      "cols(\n",
      "  .default = col_double()\n",
      ")\n",
      "See spec(...) for full column specifications.\n"
     ]
    },
    {
     "data": {
      "text/html": [
       "<table>\n",
       "<caption>A tibble: 6 × 31</caption>\n",
       "<thead>\n",
       "\t<tr><th scope=col>having_IP_address</th><th scope=col>URL_Length</th><th scope=col>Shortening_Service</th><th scope=col>having_At_Symbol</th><th scope=col>double_slash_redirecting</th><th scope=col>Prefix_Suffix</th><th scope=col>having_Sub_Domain</th><th scope=col>SSLfinal_State</th><th scope=col>Domain_registration_length</th><th scope=col>Favicon</th><th scope=col>⋯</th><th scope=col>popUpWindow</th><th scope=col>Iframe</th><th scope=col>age_of_domain</th><th scope=col>DNSRecord</th><th scope=col>web_traffic</th><th scope=col>Page_Rank</th><th scope=col>Google_Index</th><th scope=col>Links_pointing_to_page</th><th scope=col>Statistical_report</th><th scope=col>Result</th></tr>\n",
       "\t<tr><th scope=col>&lt;dbl&gt;</th><th scope=col>&lt;dbl&gt;</th><th scope=col>&lt;dbl&gt;</th><th scope=col>&lt;dbl&gt;</th><th scope=col>&lt;dbl&gt;</th><th scope=col>&lt;dbl&gt;</th><th scope=col>&lt;dbl&gt;</th><th scope=col>&lt;dbl&gt;</th><th scope=col>&lt;dbl&gt;</th><th scope=col>&lt;dbl&gt;</th><th scope=col>⋯</th><th scope=col>&lt;dbl&gt;</th><th scope=col>&lt;dbl&gt;</th><th scope=col>&lt;dbl&gt;</th><th scope=col>&lt;dbl&gt;</th><th scope=col>&lt;dbl&gt;</th><th scope=col>&lt;dbl&gt;</th><th scope=col>&lt;dbl&gt;</th><th scope=col>&lt;dbl&gt;</th><th scope=col>&lt;dbl&gt;</th><th scope=col>&lt;dbl&gt;</th></tr>\n",
       "</thead>\n",
       "<tbody>\n",
       "\t<tr><td>-1</td><td>1</td><td> 1</td><td>1</td><td>-1</td><td>-1</td><td>-1</td><td>-1</td><td>-1</td><td>1</td><td>⋯</td><td> 1</td><td>1</td><td>-1</td><td>-1</td><td>-1</td><td>-1</td><td>1</td><td> 1</td><td>-1</td><td>-1</td></tr>\n",
       "\t<tr><td> 1</td><td>1</td><td> 1</td><td>1</td><td> 1</td><td>-1</td><td> 0</td><td> 1</td><td>-1</td><td>1</td><td>⋯</td><td> 1</td><td>1</td><td>-1</td><td>-1</td><td> 0</td><td>-1</td><td>1</td><td> 1</td><td> 1</td><td>-1</td></tr>\n",
       "\t<tr><td> 1</td><td>0</td><td> 1</td><td>1</td><td> 1</td><td>-1</td><td>-1</td><td>-1</td><td>-1</td><td>1</td><td>⋯</td><td> 1</td><td>1</td><td> 1</td><td>-1</td><td> 1</td><td>-1</td><td>1</td><td> 0</td><td>-1</td><td>-1</td></tr>\n",
       "\t<tr><td> 1</td><td>0</td><td> 1</td><td>1</td><td> 1</td><td>-1</td><td>-1</td><td>-1</td><td> 1</td><td>1</td><td>⋯</td><td> 1</td><td>1</td><td>-1</td><td>-1</td><td> 1</td><td>-1</td><td>1</td><td>-1</td><td> 1</td><td>-1</td></tr>\n",
       "\t<tr><td> 1</td><td>0</td><td>-1</td><td>1</td><td> 1</td><td>-1</td><td> 1</td><td> 1</td><td>-1</td><td>1</td><td>⋯</td><td>-1</td><td>1</td><td>-1</td><td>-1</td><td> 0</td><td>-1</td><td>1</td><td> 1</td><td> 1</td><td> 1</td></tr>\n",
       "\t<tr><td>-1</td><td>0</td><td>-1</td><td>1</td><td>-1</td><td>-1</td><td> 1</td><td> 1</td><td>-1</td><td>1</td><td>⋯</td><td> 1</td><td>1</td><td> 1</td><td> 1</td><td> 1</td><td>-1</td><td>1</td><td>-1</td><td>-1</td><td> 1</td></tr>\n",
       "</tbody>\n",
       "</table>\n"
      ],
      "text/latex": [
       "A tibble: 6 × 31\n",
       "\\begin{tabular}{r|lllllllllllllllllllllllllllllll}\n",
       " having\\_IP\\_address & URL\\_Length & Shortening\\_Service & having\\_At\\_Symbol & double\\_slash\\_redirecting & Prefix\\_Suffix & having\\_Sub\\_Domain & SSLfinal\\_State & Domain\\_registration\\_length & Favicon & port & HTTPS\\_token & Request\\_URL & URL\\_of\\_Anchor & Links\\_in\\_tags & SFH & Submitting\\_to\\_email & Abnormal\\_URL & Redirect & on\\_mouseover & RightClick & popUpWindow & Iframe & age\\_of\\_domain & DNSRecord & web\\_traffic & Page\\_Rank & Google\\_Index & Links\\_pointing\\_to\\_page & Statistical\\_report & Result\\\\\n",
       " <dbl> & <dbl> & <dbl> & <dbl> & <dbl> & <dbl> & <dbl> & <dbl> & <dbl> & <dbl> & <dbl> & <dbl> & <dbl> & <dbl> & <dbl> & <dbl> & <dbl> & <dbl> & <dbl> & <dbl> & <dbl> & <dbl> & <dbl> & <dbl> & <dbl> & <dbl> & <dbl> & <dbl> & <dbl> & <dbl> & <dbl>\\\\\n",
       "\\hline\n",
       "\t -1 & 1 &  1 & 1 & -1 & -1 & -1 & -1 & -1 & 1 & 1 & -1 &  1 & -1 &  1 & -1 & -1 & -1 & 0 &  1 & 1 &  1 & 1 & -1 & -1 & -1 & -1 & 1 &  1 & -1 & -1\\\\\n",
       "\t  1 & 1 &  1 & 1 &  1 & -1 &  0 &  1 & -1 & 1 & 1 & -1 &  1 &  0 & -1 & -1 &  1 &  1 & 0 &  1 & 1 &  1 & 1 & -1 & -1 &  0 & -1 & 1 &  1 &  1 & -1\\\\\n",
       "\t  1 & 0 &  1 & 1 &  1 & -1 & -1 & -1 & -1 & 1 & 1 & -1 &  1 &  0 & -1 & -1 & -1 & -1 & 0 &  1 & 1 &  1 & 1 &  1 & -1 &  1 & -1 & 1 &  0 & -1 & -1\\\\\n",
       "\t  1 & 0 &  1 & 1 &  1 & -1 & -1 & -1 &  1 & 1 & 1 & -1 & -1 &  0 &  0 & -1 &  1 &  1 & 0 &  1 & 1 &  1 & 1 & -1 & -1 &  1 & -1 & 1 & -1 &  1 & -1\\\\\n",
       "\t  1 & 0 & -1 & 1 &  1 & -1 &  1 &  1 & -1 & 1 & 1 &  1 &  1 &  0 &  0 & -1 &  1 &  1 & 0 & -1 & 1 & -1 & 1 & -1 & -1 &  0 & -1 & 1 &  1 &  1 &  1\\\\\n",
       "\t -1 & 0 & -1 & 1 & -1 & -1 &  1 &  1 & -1 & 1 & 1 & -1 &  1 &  0 &  0 & -1 & -1 & -1 & 0 &  1 & 1 &  1 & 1 &  1 &  1 &  1 & -1 & 1 & -1 & -1 &  1\\\\\n",
       "\\end{tabular}\n"
      ],
      "text/markdown": [
       "\n",
       "A tibble: 6 × 31\n",
       "\n",
       "| having_IP_address &lt;dbl&gt; | URL_Length &lt;dbl&gt; | Shortening_Service &lt;dbl&gt; | having_At_Symbol &lt;dbl&gt; | double_slash_redirecting &lt;dbl&gt; | Prefix_Suffix &lt;dbl&gt; | having_Sub_Domain &lt;dbl&gt; | SSLfinal_State &lt;dbl&gt; | Domain_registration_length &lt;dbl&gt; | Favicon &lt;dbl&gt; | ⋯ ⋯ | popUpWindow &lt;dbl&gt; | Iframe &lt;dbl&gt; | age_of_domain &lt;dbl&gt; | DNSRecord &lt;dbl&gt; | web_traffic &lt;dbl&gt; | Page_Rank &lt;dbl&gt; | Google_Index &lt;dbl&gt; | Links_pointing_to_page &lt;dbl&gt; | Statistical_report &lt;dbl&gt; | Result &lt;dbl&gt; |\n",
       "|---|---|---|---|---|---|---|---|---|---|---|---|---|---|---|---|---|---|---|---|---|\n",
       "| -1 | 1 |  1 | 1 | -1 | -1 | -1 | -1 | -1 | 1 | ⋯ |  1 | 1 | -1 | -1 | -1 | -1 | 1 |  1 | -1 | -1 |\n",
       "|  1 | 1 |  1 | 1 |  1 | -1 |  0 |  1 | -1 | 1 | ⋯ |  1 | 1 | -1 | -1 |  0 | -1 | 1 |  1 |  1 | -1 |\n",
       "|  1 | 0 |  1 | 1 |  1 | -1 | -1 | -1 | -1 | 1 | ⋯ |  1 | 1 |  1 | -1 |  1 | -1 | 1 |  0 | -1 | -1 |\n",
       "|  1 | 0 |  1 | 1 |  1 | -1 | -1 | -1 |  1 | 1 | ⋯ |  1 | 1 | -1 | -1 |  1 | -1 | 1 | -1 |  1 | -1 |\n",
       "|  1 | 0 | -1 | 1 |  1 | -1 |  1 |  1 | -1 | 1 | ⋯ | -1 | 1 | -1 | -1 |  0 | -1 | 1 |  1 |  1 |  1 |\n",
       "| -1 | 0 | -1 | 1 | -1 | -1 |  1 |  1 | -1 | 1 | ⋯ |  1 | 1 |  1 |  1 |  1 | -1 | 1 | -1 | -1 |  1 |\n",
       "\n"
      ],
      "text/plain": [
       "  having_IP_address URL_Length Shortening_Service having_At_Symbol\n",
       "1 -1                1           1                 1               \n",
       "2  1                1           1                 1               \n",
       "3  1                0           1                 1               \n",
       "4  1                0           1                 1               \n",
       "5  1                0          -1                 1               \n",
       "6 -1                0          -1                 1               \n",
       "  double_slash_redirecting Prefix_Suffix having_Sub_Domain SSLfinal_State\n",
       "1 -1                       -1            -1                -1            \n",
       "2  1                       -1             0                 1            \n",
       "3  1                       -1            -1                -1            \n",
       "4  1                       -1            -1                -1            \n",
       "5  1                       -1             1                 1            \n",
       "6 -1                       -1             1                 1            \n",
       "  Domain_registration_length Favicon ⋯ popUpWindow Iframe age_of_domain\n",
       "1 -1                         1       ⋯  1          1      -1           \n",
       "2 -1                         1       ⋯  1          1      -1           \n",
       "3 -1                         1       ⋯  1          1       1           \n",
       "4  1                         1       ⋯  1          1      -1           \n",
       "5 -1                         1       ⋯ -1          1      -1           \n",
       "6 -1                         1       ⋯  1          1       1           \n",
       "  DNSRecord web_traffic Page_Rank Google_Index Links_pointing_to_page\n",
       "1 -1        -1          -1        1             1                    \n",
       "2 -1         0          -1        1             1                    \n",
       "3 -1         1          -1        1             0                    \n",
       "4 -1         1          -1        1            -1                    \n",
       "5 -1         0          -1        1             1                    \n",
       "6  1         1          -1        1            -1                    \n",
       "  Statistical_report Result\n",
       "1 -1                 -1    \n",
       "2  1                 -1    \n",
       "3 -1                 -1    \n",
       "4  1                 -1    \n",
       "5  1                  1    \n",
       "6 -1                  1    "
      ]
     },
     "metadata": {},
     "output_type": "display_data"
    }
   ],
   "source": [
    "# Get the data\n",
    "# Brute force column names because I have no better solution\n",
    "phishing_columns <- c(\"having_IP_address\",\n",
    "                      \"URL_Length\",\n",
    "                     \"Shortening_Service\",\n",
    "                     \"having_At_Symbol\",\n",
    "                     \"double_slash_redirecting\",\n",
    "                     \"Prefix_Suffix\",\n",
    "                     \"having_Sub_Domain\",\n",
    "                     \"SSLfinal_State\",\n",
    "                     \"Domain_registration_length\",\n",
    "                     \"Favicon\",\n",
    "                     \"port\",\n",
    "                     \"HTTPS_token\",\n",
    "                     \"Request_URL\",\n",
    "                     \"URL_of_Anchor\",\n",
    "                     \"Links_in_tags\",\n",
    "                     \"SFH\",\n",
    "                     \"Submitting_to_email\",\n",
    "                     \"Abnormal_URL\",\n",
    "                     \"Redirect\",\n",
    "                     \"on_mouseover\",\n",
    "                     \"RightClick\",\n",
    "                     \"popUpWindow\",\n",
    "                     \"Iframe\",\n",
    "                     \"age_of_domain\",\n",
    "                     \"DNSRecord\",\n",
    "                     \"web_traffic\",\n",
    "                     \"Page_Rank\",\n",
    "                     \"Google_Index\",\n",
    "                     \"Links_pointing_to_page\",\n",
    "                     \"Statistical_report\",\n",
    "                     \"Result\")\n",
    "# Assign and display\n",
    "phishing <- \"https://archive.ics.uci.edu/ml/machine-learning-databases/00327/Training%20Dataset.arff\" %>%\n",
    "                read_csv(skip = 36, col_names = phishing_columns)\n",
    "head(phishing)"
   ]
  },
  {
   "cell_type": "markdown",
   "metadata": {},
   "source": [
    "Information comes from https://archive.ics.uci.edu/ml/machine-learning-databases/00327/Phishing%20Websites%20Features.docx\n",
    "Values in the file are interpreted as follows:  \n",
    "\n",
    "- having_IP_address: 1 if URL contains IP address rather than domain name, 0 otherwise\n",
    "- URL_Length: 1 if URL is more than 75 characters in length, 0 if URL is between 54 and 75 characters in length, -1 otherwise\n",
    "- Shortening_Service: 1 if a URL shortening service, such as TinyURL is used, -1 otherwise\n",
    "- having_At_Symbol: 1 if URL has an @ symbol, -1 otherwise\n",
    "- double_slash_redirecting: 1 if \"//\" occurs after position 7 in a URL, -1 otherwise\n",
    "- Prefix_Suffix: 1 if URL contains \"-\", -1 otherwise\n",
    "- having_Sub_Domain: -1 if portion of URL *BESIDES THE COUNTRY-CODE TOP-LEVEL DOMAINS* contains 1 \".\" character, 0 if it contains 2, 1 otherwise\n",
    "- SSLfinal_state: -1 if https is used and certificate is trusted (trusted issuer, and at least one year old), 0 if https is used and certificate not trusted, 1 otherwise\n",
    "- Domain_registration_length: 1 if domain expires in a year, -1 otherwise\n",
    "- Favicon: 1 if Favicon loaded from external domain, -1 otherwise\n",
    "- port: SEE DOC, INTERPRETATION UNCLEAR\n",
    "- HTTPS_token: 1 if HTTP token in domain part of URL, -1 otherwise\n",
    "- Request_URL: 1 if at least 61% of objects are loaded externally, 0 if between 61% and 22% objects are loaded externally, -1 otherwise\n",
    "- URL_of_Anchor: 1 if URL anchor is greater than 67% of the total URL, 0 if URL anchor is between 67% and 31% of the total URL, -1 otherwise\n",
    "- Links_in_tags: 1 if more than 81% of metadata tags contain links, 0 if between 81% and 17% of tags contain links, -1 otherwise\n",
    "- SFH: 1 if SFH is \"about: blank\", 0 if SFH refers to different domain, -1 otherwise\n",
    "- Submitting_to_email: 1 if \"mail()\" or \"mailto\" is used, -1 otherwise\n",
    "- Abnormal_URL: 1 if URL does not contain host name, -1 otherwise\n",
    "- Redirect: 1 if webpage redirects is greater than 3, 0 if between 2 or 3 redirects used, (-1 not present here)\n",
    "- on_mouseover: 1 if mousing over a link on the site changes the status bar, -1 otherwise\n",
    "- RightClick: 1 if right click disabled, -1 otherwise\n",
    "- PopUpWindow: 1 if popup windows contain text fields, -1 otherwise\n",
    "- Iframe: 1 if iframe used, -1 otherwise\n",
    "- age_of_domain: 1 if domain is less than 6 months olds, -1 otherwise\n",
    "- DNSRecord: 1 if no DNS record, -1 otherwise\n",
    "- web_traffic: 1 if website is not found in Alexa database, 0 if ranked below is rated below 100000th in Alexa database, -1 otherwise\n",
    "- Page_Rank: 1 if page rank is less than 0.2, -1 otherwise\n",
    "- Google_Index: 1 if page is not indexed by Google, -1 otherwise\n",
    "- Links_pointing_to_page: 1 if page has no external links leading to it, 0 if page has 1 or 2 external links leading to it, -1 otherwise\n",
    "- Statistical_report: 1 if host belongs to top phishing IPs/domains, -1 otherwise\n",
    "\n",
    "Result: -1 is legitimate, 1 is phishing website."
   ]
  },
  {
   "cell_type": "code",
   "execution_count": 172,
   "metadata": {
    "scrolled": true
   },
   "outputs": [],
   "source": [
    "set.seed(1)\n",
    "# Paring down dataset to what we will be working with, converting result to factor:\n",
    "working_columns <- c(\"URL_Length\", \n",
    "                     \"having_At_Symbol\", \n",
    "                     \"Prefix_Suffix\", \n",
    "                     \"Favicon\", \n",
    "                     \"port\", \n",
    "                     \"SFH\", \n",
    "                     \"Abnormal_URL\", \n",
    "                     \"Redirect\", \n",
    "                     \"on_mouseover\", \n",
    "                     \"popUpWindow\", \n",
    "                     \"Iframe\", \n",
    "                     \"Statistical_report\", \n",
    "                     \"Result\")\n",
    "working_data_raw <- sample_n(phishing, size = 1000)\n",
    "working_data <- mutate(working_data_raw, Result = as.factor(Result))\n",
    "\n",
    "\n",
    "# Splitting data into training and testing sets:\n",
    "training_rows <- working_data %>%\n",
    "                    select(Result) %>%\n",
    "                    unlist() %>%\n",
    "                    createDataPartition(p=0.75, list=FALSE)\n",
    "training_data <- working_data %>%\n",
    "                    slice(training_rows) %>%\n",
    "                    select(working_columns)\n",
    "testing_data <- working_data %>%\n",
    "                    slice(-training_rows) %>%\n",
    "                    select(working_columns)\n",
    "\n",
    "# Prepping for training:\n",
    "X_train <- training_data %>%\n",
    "                select(-Result) %>%\n",
    "                data.frame()\n",
    "Y_train <- training_data %>%\n",
    "                select(Result) %>%\n",
    "                unlist()\n",
    "X_test <- testing_data %>%\n",
    "                select(-Result) %>%\n",
    "                data.frame()\n",
    "Y_test <- testing_data %>%\n",
    "                select(Result) %>%\n",
    "                unlist()"
   ]
  },
  {
   "cell_type": "code",
   "execution_count": 173,
   "metadata": {
    "scrolled": false
   },
   "outputs": [
    {
     "data": {
      "text/plain": [
       "k-Nearest Neighbors \n",
       "\n",
       "751 samples\n",
       " 12 predictor\n",
       "  2 classes: '-1', '1' \n",
       "\n",
       "No pre-processing\n",
       "Resampling: Cross-Validated (5 fold) \n",
       "Summary of sample sizes: 600, 601, 601, 601, 601 \n",
       "Resampling results across tuning parameters:\n",
       "\n",
       "  k    Accuracy   Kappa    \n",
       "    1  0.6724415  0.3565300\n",
       "    2  0.6657925  0.3469450\n",
       "    3  0.6577925  0.3313805\n",
       "    4  0.6564680  0.3282940\n",
       "    5  0.6631082  0.3422796\n",
       "    6  0.6671258  0.3476476\n",
       "    7  0.6657748  0.3448691\n",
       "    8  0.6697925  0.3522187\n",
       "    9  0.6724503  0.3568861\n",
       "   10  0.6724415  0.3567815\n",
       "   11  0.6844415  0.3788736\n",
       "   12  0.6844503  0.3800196\n",
       "   13  0.6857837  0.3811848\n",
       "   14  0.6751170  0.3594933\n",
       "   15  0.6777748  0.3662519\n",
       "   16  0.6817572  0.3733520\n",
       "   17  0.6790993  0.3680646\n",
       "   18  0.6804238  0.3708911\n",
       "   19  0.6790905  0.3692603\n",
       "   20  0.6830728  0.3772802\n",
       "   21  0.6817395  0.3754715\n",
       "   22  0.6830728  0.3790773\n",
       "   23  0.6738190  0.3632949\n",
       "   24  0.6738102  0.3640073\n",
       "   25  0.6724945  0.3613309\n",
       "   26  0.6738190  0.3641101\n",
       "   27  0.6631700  0.3443141\n",
       "   28  0.6645033  0.3483972\n",
       "   29  0.6591700  0.3380222\n",
       "   30  0.6525033  0.3262032\n",
       "   31  0.6511700  0.3243106\n",
       "   32  0.6498455  0.3214146\n",
       "   33  0.6471788  0.3168493\n",
       "   34  0.6498455  0.3217485\n",
       "   35  0.6498455  0.3218435\n",
       "   36  0.6338455  0.2934581\n",
       "   37  0.6338455  0.2929652\n",
       "   38  0.6311876  0.2891030\n",
       "   39  0.6325210  0.2899284\n",
       "   40  0.6351965  0.2954424\n",
       "   41  0.6338631  0.2926817\n",
       "   42  0.6338808  0.2935561\n",
       "   43  0.6312141  0.2896299\n",
       "   44  0.6365298  0.3003394\n",
       "   45  0.6338720  0.2960503\n",
       "   46  0.6325563  0.2932175\n",
       "   47  0.6325475  0.2947469\n",
       "   48  0.6312141  0.2919523\n",
       "   49  0.6312141  0.2919734\n",
       "   50  0.6312141  0.2918483\n",
       "   51  0.6338631  0.2978105\n",
       "   52  0.6378631  0.3046666\n",
       "   53  0.6338631  0.2977457\n",
       "   54  0.6378543  0.3055387\n",
       "   55  0.6405298  0.3103495\n",
       "   56  0.6338631  0.2985946\n",
       "   57  0.6325298  0.2959993\n",
       "   58  0.6311965  0.2931414\n",
       "   59  0.6245386  0.2808590\n",
       "   60  0.6245386  0.2815426\n",
       "   61  0.6245386  0.2811221\n",
       "   62  0.6245386  0.2811221\n",
       "   63  0.6232053  0.2790461\n",
       "   64  0.6218720  0.2763380\n",
       "   65  0.6271965  0.2850327\n",
       "   66  0.6311965  0.2934620\n",
       "   67  0.6258631  0.2830916\n",
       "   68  0.6272053  0.2860217\n",
       "   69  0.6192053  0.2708759\n",
       "   70  0.6178720  0.2693958\n",
       "   71  0.6138808  0.2615322\n",
       "   72  0.6178808  0.2683387\n",
       "   73  0.6192141  0.2716046\n",
       "   74  0.6205386  0.2738368\n",
       "   75  0.6232141  0.2804192\n",
       "   76  0.6178896  0.2693961\n",
       "   77  0.6152141  0.2647445\n",
       "   78  0.6178896  0.2692072\n",
       "   79  0.6178896  0.2697329\n",
       "   80  0.6152141  0.2642281\n",
       "   81  0.6178720  0.2691836\n",
       "   82  0.6152141  0.2650375\n",
       "   83  0.6205386  0.2750894\n",
       "   84  0.6192141  0.2726490\n",
       "   85  0.6152053  0.2661152\n",
       "   86  0.6112141  0.2581622\n",
       "   87  0.6111965  0.2580202\n",
       "   88  0.6151876  0.2655416\n",
       "   89  0.6138631  0.2633137\n",
       "   90  0.6138631  0.2622647\n",
       "   91  0.6138455  0.2630946\n",
       "   92  0.6138631  0.2624975\n",
       "   93  0.6125210  0.2606787\n",
       "   94  0.6138631  0.2626091\n",
       "   95  0.6098631  0.2552836\n",
       "   96  0.6138631  0.2624718\n",
       "   97  0.6151965  0.2647590\n",
       "   98  0.6165298  0.2676033\n",
       "   99  0.6125386  0.2607122\n",
       "  100  0.6098808  0.2552430\n",
       "  101  0.6098631  0.2555714\n",
       "  102  0.6098896  0.2547791\n",
       "  103  0.6098896  0.2552516\n",
       "  104  0.6098896  0.2552034\n",
       "  105  0.6098720  0.2547386\n",
       "  106  0.6085563  0.2519990\n",
       "  107  0.6112230  0.2570536\n",
       "  108  0.6085563  0.2524589\n",
       "  109  0.6085563  0.2524532\n",
       "  110  0.6058896  0.2464870\n",
       "  111  0.6072053  0.2492266\n",
       "  112  0.6018896  0.2394826\n",
       "  113  0.6018896  0.2394768\n",
       "  114  0.6018896  0.2394598\n",
       "  115  0.6018896  0.2404010\n",
       "  116  0.6032318  0.2431447\n",
       "  117  0.6005651  0.2384457\n",
       "  118  0.6032141  0.2421196\n",
       "  119  0.6072053  0.2507525\n",
       "  120  0.5978896  0.2329045\n",
       "  121  0.6019073  0.2405945\n",
       "  122  0.5978808  0.2327628\n",
       "  123  0.5992230  0.2355212\n",
       "  124  0.5978896  0.2327639\n",
       "  125  0.5992230  0.2354016\n",
       "  126  0.5978896  0.2331144\n",
       "  127  0.5965475  0.2318555\n",
       "  128  0.5938896  0.2267012\n",
       "  129  0.5938896  0.2271590\n",
       "  130  0.5965298  0.2317583\n",
       "  131  0.5978808  0.2350912\n",
       "  132  0.5978808  0.2350563\n",
       "  133  0.5978720  0.2346045\n",
       "  134  0.6005386  0.2391608\n",
       "  135  0.5965386  0.2323192\n",
       "  136  0.5992053  0.2382842\n",
       "  137  0.6005386  0.2405422\n",
       "  138  0.5992141  0.2382440\n",
       "  139  0.6005475  0.2405676\n",
       "  140  0.6032141  0.2455206\n",
       "  141  0.6005475  0.2409985\n",
       "  142  0.6045475  0.2487634\n",
       "  143  0.6045475  0.2487395\n",
       "  144  0.6032230  0.2460228\n",
       "  145  0.6032230  0.2460031\n",
       "  146  0.6005563  0.2414578\n",
       "  147  0.6018896  0.2436367\n",
       "  148  0.6018896  0.2436367\n",
       "  149  0.5992230  0.2390913\n",
       "  150  0.6045563  0.2486431\n",
       "\n",
       "Accuracy was used to select the optimal model using the largest value.\n",
       "The final value used for the model was k = 13."
      ]
     },
     "metadata": {},
     "output_type": "display_data"
    }
   ],
   "source": [
    "# Performing five-fold cross-validation to pick k\n",
    "set.seed(1)\n",
    "k_test = data.frame(k=seq(from = 1, to = 150, by = 1))\n",
    "train_control <- trainControl(method=\"cv\", number=5)\n",
    "choose_k <- train(x=X_train, y=Y_train, method=\"knn\", tuneGrid = k_test, trControl = train_control)\n",
    "choose_k"
   ]
  },
  {
   "cell_type": "code",
   "execution_count": 174,
   "metadata": {},
   "outputs": [
    {
     "data": {
      "image/png": "[encoded data removed]",
      "text/plain": [
       "plot without title"
      ]
     },
     "metadata": {},
     "output_type": "display_data"
    }
   ],
   "source": [
    "# Visualizing the different accuracies vs their k values to be confident in the choice of k. \n",
    "options(repr.plot.width=5, repr.plot.height=5)\n",
    "accuracies  <- choose_k$results %>%\n",
    "                    select(k, Accuracy)\n",
    "accuracies_plot <- ggplot(accuracies, aes(x=k, y=Accuracy)) +\n",
    "                        geom_point() +\n",
    "                        geom_line() +\n",
    "                        labs(x=\"K\", y=\"Accuracy\", title=\"Accuracy vs Different Values of K\")\n",
    "accuracies_plot"
   ]
  },
  {
   "cell_type": "code",
   "execution_count": 176,
   "metadata": {},
   "outputs": [
    {
     "data": {
      "text/plain": [
       "Confusion Matrix and Statistics\n",
       "\n",
       "          Reference\n",
       "Prediction -1  1\n",
       "        -1 79 63\n",
       "        1  32 75\n",
       "                                         \n",
       "               Accuracy : 0.6185         \n",
       "                 95% CI : (0.555, 0.6791)\n",
       "    No Information Rate : 0.5542         \n",
       "    P-Value [Acc > NIR] : 0.023574       \n",
       "                                         \n",
       "                  Kappa : 0.2484         \n",
       "                                         \n",
       " Mcnemar's Test P-Value : 0.002084       \n",
       "                                         \n",
       "            Sensitivity : 0.7117         \n",
       "            Specificity : 0.5435         \n",
       "         Pos Pred Value : 0.5563         \n",
       "         Neg Pred Value : 0.7009         \n",
       "             Prevalence : 0.4458         \n",
       "         Detection Rate : 0.3173         \n",
       "   Detection Prevalence : 0.5703         \n",
       "      Balanced Accuracy : 0.6276         \n",
       "                                         \n",
       "       'Positive' Class : -1             \n",
       "                                         "
      ]
     },
     "metadata": {},
     "output_type": "display_data"
    }
   ],
   "source": [
    "# Training knn_model\n",
    "knn_model <- train(x=X_train, y=Y_train, method=\"knn\", tuneGrid=data.frame(k=13))\n",
    "predictions <- predict(knn_model, X_test)\n",
    "model_quality <- confusionMatrix(data = predictions, reference = Y_test)\n",
    "model_quality"
   ]
  },
  {
   "cell_type": "markdown",
   "metadata": {},
   "source": [
    "**TALK HERE ABOUT SUMMARY STATISTICS IN WORDS**   \n",
    "**DO NOT HAND IN WITHOUT COMPLETING**\n",
    "- unbalanced observations in predictor_dist_plot\n",
    "- sort of balanced result classes in summary_tbl_results\n",
    "- why we chose the variables we did?\n",
    "- there are no NA values in the dataset AT ALL\n",
    "\n",
    "*Side note, someone help me with the colour scheme stuff because phishing is blue and legitimate is red and that makes me sad but I can't fix it*"
   ]
  },
  {
   "cell_type": "code",
   "execution_count": 249,
   "metadata": {},
   "outputs": [
    {
     "name": "stderr",
     "output_type": "stream",
     "text": [
      "Warning message:\n",
      "“attributes are not identical across measure variables;\n",
      "they will be dropped”"
     ]
    },
    {
     "data": {
      "text/html": [
       "<table>\n",
       "<caption>A tibble: 3 × 13</caption>\n",
       "<thead>\n",
       "\t<tr><th scope=col>Observation</th><th scope=col>Abnormal_URL</th><th scope=col>Favicon</th><th scope=col>having_At_Symbol</th><th scope=col>Iframe</th><th scope=col>on_mouseover</th><th scope=col>popUpWindow</th><th scope=col>port</th><th scope=col>Prefix_Suffix</th><th scope=col>Redirect</th><th scope=col>SFH</th><th scope=col>Statistical_report</th><th scope=col>URL_Length</th></tr>\n",
       "\t<tr><th scope=col>&lt;chr&gt;</th><th scope=col>&lt;dbl&gt;</th><th scope=col>&lt;dbl&gt;</th><th scope=col>&lt;dbl&gt;</th><th scope=col>&lt;dbl&gt;</th><th scope=col>&lt;dbl&gt;</th><th scope=col>&lt;dbl&gt;</th><th scope=col>&lt;dbl&gt;</th><th scope=col>&lt;dbl&gt;</th><th scope=col>&lt;dbl&gt;</th><th scope=col>&lt;dbl&gt;</th><th scope=col>&lt;dbl&gt;</th><th scope=col>&lt;dbl&gt;</th></tr>\n",
       "</thead>\n",
       "<tbody>\n",
       "\t<tr><td>-1</td><td>115</td><td>148</td><td>128</td><td> 70</td><td> 94</td><td>157</td><td>106</td><td>652</td><td>  0</td><td>574</td><td> 91</td><td>597</td></tr>\n",
       "\t<tr><td>0 </td><td>  0</td><td>  0</td><td>  0</td><td>  0</td><td>  0</td><td>  0</td><td>  0</td><td>  0</td><td>655</td><td> 47</td><td>  0</td><td>  8</td></tr>\n",
       "\t<tr><td>1 </td><td>636</td><td>603</td><td>623</td><td>681</td><td>657</td><td>594</td><td>645</td><td> 99</td><td> 96</td><td>130</td><td>660</td><td>146</td></tr>\n",
       "</tbody>\n",
       "</table>\n"
      ],
      "text/latex": [
       "A tibble: 3 × 13\n",
       "\\begin{tabular}{r|lllllllllllll}\n",
       " Observation & Abnormal\\_URL & Favicon & having\\_At\\_Symbol & Iframe & on\\_mouseover & popUpWindow & port & Prefix\\_Suffix & Redirect & SFH & Statistical\\_report & URL\\_Length\\\\\n",
       " <chr> & <dbl> & <dbl> & <dbl> & <dbl> & <dbl> & <dbl> & <dbl> & <dbl> & <dbl> & <dbl> & <dbl> & <dbl>\\\\\n",
       "\\hline\n",
       "\t -1 & 115 & 148 & 128 &  70 &  94 & 157 & 106 & 652 &   0 & 574 &  91 & 597\\\\\n",
       "\t 0  &   0 &   0 &   0 &   0 &   0 &   0 &   0 &   0 & 655 &  47 &   0 &   8\\\\\n",
       "\t 1  & 636 & 603 & 623 & 681 & 657 & 594 & 645 &  99 &  96 & 130 & 660 & 146\\\\\n",
       "\\end{tabular}\n"
      ],
      "text/markdown": [
       "\n",
       "A tibble: 3 × 13\n",
       "\n",
       "| Observation &lt;chr&gt; | Abnormal_URL &lt;dbl&gt; | Favicon &lt;dbl&gt; | having_At_Symbol &lt;dbl&gt; | Iframe &lt;dbl&gt; | on_mouseover &lt;dbl&gt; | popUpWindow &lt;dbl&gt; | port &lt;dbl&gt; | Prefix_Suffix &lt;dbl&gt; | Redirect &lt;dbl&gt; | SFH &lt;dbl&gt; | Statistical_report &lt;dbl&gt; | URL_Length &lt;dbl&gt; |\n",
       "|---|---|---|---|---|---|---|---|---|---|---|---|---|\n",
       "| -1 | 115 | 148 | 128 |  70 |  94 | 157 | 106 | 652 |   0 | 574 |  91 | 597 |\n",
       "| 0  |   0 |   0 |   0 |   0 |   0 |   0 |   0 |   0 | 655 |  47 |   0 |   8 |\n",
       "| 1  | 636 | 603 | 623 | 681 | 657 | 594 | 645 |  99 |  96 | 130 | 660 | 146 |\n",
       "\n"
      ],
      "text/plain": [
       "  Observation Abnormal_URL Favicon having_At_Symbol Iframe on_mouseover\n",
       "1 -1          115          148     128               70     94         \n",
       "2 0             0            0       0                0      0         \n",
       "3 1           636          603     623              681    657         \n",
       "  popUpWindow port Prefix_Suffix Redirect SFH Statistical_report URL_Length\n",
       "1 157         106  652             0      574  91                597       \n",
       "2   0           0    0           655       47   0                  8       \n",
       "3 594         645   99            96      130 660                146       "
      ]
     },
     "metadata": {},
     "output_type": "display_data"
    },
    {
     "data": {
      "text/html": [
       "<table>\n",
       "<caption>A tibble: 2 × 2</caption>\n",
       "<thead>\n",
       "\t<tr><th scope=col>Observation</th><th scope=col>count</th></tr>\n",
       "\t<tr><th scope=col>&lt;chr&gt;</th><th scope=col>&lt;int&gt;</th></tr>\n",
       "</thead>\n",
       "<tbody>\n",
       "\t<tr><td>-1</td><td>334</td></tr>\n",
       "\t<tr><td>1 </td><td>417</td></tr>\n",
       "</tbody>\n",
       "</table>\n"
      ],
      "text/latex": [
       "A tibble: 2 × 2\n",
       "\\begin{tabular}{r|ll}\n",
       " Observation & count\\\\\n",
       " <chr> & <int>\\\\\n",
       "\\hline\n",
       "\t -1 & 334\\\\\n",
       "\t 1  & 417\\\\\n",
       "\\end{tabular}\n"
      ],
      "text/markdown": [
       "\n",
       "A tibble: 2 × 2\n",
       "\n",
       "| Observation &lt;chr&gt; | count &lt;int&gt; |\n",
       "|---|---|\n",
       "| -1 | 334 |\n",
       "| 1  | 417 |\n",
       "\n"
      ],
      "text/plain": [
       "  Observation count\n",
       "1 -1          334  \n",
       "2 1           417  "
      ]
     },
     "metadata": {},
     "output_type": "display_data"
    }
   ],
   "source": [
    "# make table of number observations per class to check if balanced\n",
    "\n",
    "\n",
    "summary_tidy <- training_data %>%\n",
    "                gather(key = \"Column\",\n",
    "                      value = \"Observation\",\n",
    "                      na.rm = FALSE)\n",
    "summary_tibble <- summary_tidy %>%\n",
    "                 group_by(Column,Observation) %>%\n",
    "                 summarize(count = n()) %>%\n",
    "                 as_tibble()\n",
    "(summary_tbl_predictors <- summary_tibble %>% filter(Column != \"Result\") %>%\n",
    "                         spread(key = Column,\n",
    "                               value = count,\n",
    "                               fill = 0))\n",
    "(summary_tbl_results <- summary_tibble %>% \n",
    "                         filter(Column == \"Result\") %>%\n",
    "                         select(-Column))"
   ]
  },
  {
   "cell_type": "code",
   "execution_count": 253,
   "metadata": {},
   "outputs": [
    {
     "data": {
      "image/png": "[encoded data removed]",
      "text/plain": [
       "plot without title"
      ]
     },
     "metadata": {},
     "output_type": "display_data"
    }
   ],
   "source": [
    "# plot distribution of predictor variables (since mean is useless when dealing with factors)\n",
    "library(RColorBrewer)\n",
    "options(repr.plot.width = 10, repr.plot.height = 5)\n",
    "\n",
    "(predictor_dist_plot <- summary_tibble %>% filter(Column != \"Result\") %>%\n",
    "                     arrange(desc(str_length(Observation))) %>%\n",
    "                     ggplot(aes(x = Column, y = count/7.51, fill = Observation)) +\n",
    "                     geom_bar(stat = \"identity\") +\n",
    "                     scale_fill_brewer(palette = \"Set1\", \n",
    "                                        labels = c(\"Legitimate (-1)\",\"Suspicious (0)\",\"Phishing (1)\")) +\n",
    "                     labs(x = \"Predictor Type\", \n",
    "                          y = \"Proportion of Observed Values (%)\",\n",
    "                         fill = \"Observed Value\") +\n",
    "                     theme(axis.text.x = element_text(angle = 45, hjust = 1)) +\n",
    "                     ggtitle(\"Distribution of Data in Training Set\"))"
   ]
  },
  {
   "cell_type": "markdown",
   "metadata": {},
   "source": [
    "methods **UNFINISHED**\n",
    "- estimate data wrangling/cleaning\n",
    "- explain conducting classification analysis\n",
    "- describe visualization of results"
   ]
  },
  {
   "cell_type": "markdown",
   "metadata": {},
   "source": [
    "hypothesis **UNFINISHED**\n",
    "- what do you expect\n",
    "- why do you care about this topic anyway\n",
    "- future questions"
   ]
  },
  {
   "cell_type": "code",
   "execution_count": null,
   "metadata": {},
   "outputs": [],
   "source": []
  }
 ],
 "metadata": {
  "kernelspec": {
   "display_name": "R",
   "language": "R",
   "name": "ir"
  },
  "language_info": {
   "codemirror_mode": "r",
   "file_extension": ".r",
   "mimetype": "text/x-r-source",
   "name": "R",
   "pygments_lexer": "r",
   "version": "3.6.1"
  }
 },
 "nbformat": 4,
 "nbformat_minor": 4
}
